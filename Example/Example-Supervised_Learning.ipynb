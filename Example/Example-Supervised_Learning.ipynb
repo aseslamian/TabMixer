{
 "cells": [
  {
   "cell_type": "code",
   "execution_count": 10,
   "id": "706c7d9a",
   "metadata": {},
   "outputs": [],
   "source": [
    "import dataset\n",
    "import evaluator\n",
    "import transtab\n",
    "import torch\n",
    "import random\n",
    "import os\n",
    "import numpy as np\n",
    "from itertools import product"
   ]
  },
  {
   "cell_type": "code",
   "execution_count": 11,
   "id": "fcf578a9",
   "metadata": {},
   "outputs": [],
   "source": [
    "# path = [r'C:\\Users\\Ali\\Code\\TransTAB\\FIRST-CODE\\DATA\\Credit-g(CG)\\Preprocessed']  # Credit-g(CG)\n",
    "# path = [r'C:\\Users\\Ali\\Code\\TransTAB\\FIRST-CODE\\DATA\\Credit-approval(CA)\\Preprocessed'] # Credit-approval(CA)\n",
    "# path = [r'C:\\Users\\Ali\\Code\\TransTAB\\FIRST-CODE\\DATA\\dress-sale(DS)\\Preprocessed'] # dress-sale(DS)\n",
    "# path = [r'C:\\Users\\Ali\\Code\\TransTAB\\FIRST-CODE\\DATA\\Adult(AD)\\Preprocessed'] # Adult(AD)\n",
    "# path = [r'C:\\Users\\Ali\\Code\\TransTAB\\FIRST-CODE\\DATA\\cylinder-bands(CB)\\Preprocessed']  # cylinder-bands(CB)\n",
    "# path = [r'C:\\Users\\Ali\\Code\\TransTAB\\FIRST-CODE\\DATA\\Blastchar(BL)\\Preprocessed']   # Blastchar(BL)\n",
    "path = [r'C:\\Users\\Ali\\Code\\TransTAB\\FIRST-CODE\\DATA\\insurance+company(IO)\\Preprocessed']    # insurance+company(IO)\n",
    "# path = [r'C:\\Users\\Ali\\Code\\TransTAB\\FIRST-CODE\\DATA\\income (IC)\\Preprocessed'] # income (IC)"
   ]
  },
  {
   "cell_type": "code",
   "execution_count": 12,
   "id": "65559634",
   "metadata": {
    "scrolled": true
   },
   "outputs": [
    {
     "name": "stdout",
     "output_type": "stream",
     "text": [
      "########################################\n",
      "load from local data dir C:\\Users\\Ali\\Code\\TransTAB\\FIRST-CODE\\DATA\\insurance+company(IO)\\Preprocessed\n",
      "# data: 7524, # feat: 85, # cate: 0,  # bin: 9, # numerical: 76, pos rate: 0.50\n"
     ]
    }
   ],
   "source": [
    "# load multiple datasets by passing a list of data names\n",
    "allset, trainset, valset, testset, cat_cols, num_cols, bin_cols = transtab.load_data(path) "
   ]
  },
  {
   "cell_type": "code",
   "execution_count": 14,
   "id": "c0ce773c",
   "metadata": {
    "scrolled": false
   },
   "outputs": [
    {
     "name": "stderr",
     "output_type": "stream",
     "text": [
      "Epoch:   2%|▏         | 1/50 [00:02<01:48,  2.21s/it]"
     ]
    },
    {
     "name": "stdout",
     "output_type": "stream",
     "text": [
      "epoch: 0, test val_loss: 0.544520\n",
      "epoch: 0, train loss: 27.0070, lr: 0.000200, spent: 2.2 secs\n"
     ]
    },
    {
     "name": "stderr",
     "output_type": "stream",
     "text": [
      "Epoch:   4%|▍         | 2/50 [00:04<01:40,  2.10s/it]"
     ]
    },
    {
     "name": "stdout",
     "output_type": "stream",
     "text": [
      "epoch: 1, test val_loss: 0.441090\n",
      "epoch: 1, train loss: 21.3557, lr: 0.000200, spent: 4.2 secs\n"
     ]
    },
    {
     "name": "stderr",
     "output_type": "stream",
     "text": [
      "Epoch:   6%|▌         | 3/50 [00:06<01:34,  2.01s/it]"
     ]
    },
    {
     "name": "stdout",
     "output_type": "stream",
     "text": [
      "epoch: 2, test val_loss: 0.411605\n",
      "epoch: 2, train loss: 17.4786, lr: 0.000200, spent: 6.1 secs\n"
     ]
    },
    {
     "name": "stderr",
     "output_type": "stream",
     "text": [
      "Epoch:   8%|▊         | 4/50 [00:08<01:31,  2.00s/it]"
     ]
    },
    {
     "name": "stdout",
     "output_type": "stream",
     "text": [
      "epoch: 3, test val_loss: 0.368108\n",
      "epoch: 3, train loss: 15.0461, lr: 0.000200, spent: 8.1 secs\n"
     ]
    },
    {
     "name": "stderr",
     "output_type": "stream",
     "text": [
      "Epoch:  10%|█         | 5/50 [00:10<01:30,  2.00s/it]"
     ]
    },
    {
     "name": "stdout",
     "output_type": "stream",
     "text": [
      "epoch: 4, test val_loss: 0.320384\n",
      "epoch: 4, train loss: 12.9552, lr: 0.000200, spent: 10.1 secs\n"
     ]
    },
    {
     "name": "stderr",
     "output_type": "stream",
     "text": [
      "Epoch:  12%|█▏        | 6/50 [00:12<01:27,  1.99s/it]"
     ]
    },
    {
     "name": "stdout",
     "output_type": "stream",
     "text": [
      "epoch: 5, test val_loss: 0.266955\n",
      "epoch: 5, train loss: 10.8479, lr: 0.000200, spent: 12.1 secs\n"
     ]
    },
    {
     "name": "stderr",
     "output_type": "stream",
     "text": [
      "Epoch:  14%|█▍        | 7/50 [00:14<01:24,  1.98s/it]"
     ]
    },
    {
     "name": "stdout",
     "output_type": "stream",
     "text": [
      "epoch: 6, test val_loss: 0.231948\n",
      "epoch: 6, train loss: 9.0195, lr: 0.000200, spent: 14.0 secs\n"
     ]
    },
    {
     "name": "stderr",
     "output_type": "stream",
     "text": [
      "Epoch:  16%|█▌        | 8/50 [00:15<01:22,  1.96s/it]"
     ]
    },
    {
     "name": "stdout",
     "output_type": "stream",
     "text": [
      "epoch: 7, test val_loss: 0.246557\n",
      "EarlyStopping counter: 1 out of 5\n",
      "epoch: 7, train loss: 7.4867, lr: 0.000200, spent: 15.9 secs\n"
     ]
    },
    {
     "name": "stderr",
     "output_type": "stream",
     "text": [
      "Epoch:  18%|█▊        | 9/50 [00:17<01:20,  1.95s/it]"
     ]
    },
    {
     "name": "stdout",
     "output_type": "stream",
     "text": [
      "epoch: 8, test val_loss: 0.199773\n",
      "epoch: 8, train loss: 6.7965, lr: 0.000200, spent: 17.9 secs\n"
     ]
    },
    {
     "name": "stderr",
     "output_type": "stream",
     "text": [
      "Epoch:  20%|██        | 10/50 [00:19<01:18,  1.95s/it]"
     ]
    },
    {
     "name": "stdout",
     "output_type": "stream",
     "text": [
      "epoch: 9, test val_loss: 0.184619\n",
      "epoch: 9, train loss: 6.0015, lr: 0.000200, spent: 19.8 secs\n"
     ]
    },
    {
     "name": "stderr",
     "output_type": "stream",
     "text": [
      "Epoch:  22%|██▏       | 11/50 [00:21<01:16,  1.95s/it]"
     ]
    },
    {
     "name": "stdout",
     "output_type": "stream",
     "text": [
      "epoch: 10, test val_loss: 0.194667\n",
      "EarlyStopping counter: 1 out of 5\n",
      "epoch: 10, train loss: 5.2033, lr: 0.000200, spent: 21.8 secs\n"
     ]
    },
    {
     "name": "stderr",
     "output_type": "stream",
     "text": [
      "Epoch:  24%|██▍       | 12/50 [00:23<01:14,  1.96s/it]"
     ]
    },
    {
     "name": "stdout",
     "output_type": "stream",
     "text": [
      "epoch: 11, test val_loss: 0.168342\n",
      "epoch: 11, train loss: 5.1360, lr: 0.000200, spent: 23.8 secs\n"
     ]
    },
    {
     "name": "stderr",
     "output_type": "stream",
     "text": [
      "Epoch:  26%|██▌       | 13/50 [00:25<01:12,  1.95s/it]"
     ]
    },
    {
     "name": "stdout",
     "output_type": "stream",
     "text": [
      "epoch: 12, test val_loss: 0.171934\n",
      "EarlyStopping counter: 1 out of 5\n",
      "epoch: 12, train loss: 4.4934, lr: 0.000200, spent: 25.7 secs\n"
     ]
    },
    {
     "name": "stderr",
     "output_type": "stream",
     "text": [
      "Epoch:  28%|██▊       | 14/50 [00:27<01:10,  1.95s/it]"
     ]
    },
    {
     "name": "stdout",
     "output_type": "stream",
     "text": [
      "epoch: 13, test val_loss: 0.159972\n",
      "epoch: 13, train loss: 4.0676, lr: 0.000200, spent: 27.7 secs\n"
     ]
    },
    {
     "name": "stderr",
     "output_type": "stream",
     "text": [
      "Epoch:  30%|███       | 15/50 [00:29<01:08,  1.95s/it]"
     ]
    },
    {
     "name": "stdout",
     "output_type": "stream",
     "text": [
      "epoch: 14, test val_loss: 0.157557\n",
      "epoch: 14, train loss: 3.6232, lr: 0.000200, spent: 29.6 secs\n"
     ]
    },
    {
     "name": "stderr",
     "output_type": "stream",
     "text": [
      "Epoch:  32%|███▏      | 16/50 [00:31<01:06,  1.94s/it]"
     ]
    },
    {
     "name": "stdout",
     "output_type": "stream",
     "text": [
      "epoch: 15, test val_loss: 0.178120\n",
      "EarlyStopping counter: 1 out of 5\n",
      "epoch: 15, train loss: 3.4197, lr: 0.000200, spent: 31.5 secs\n"
     ]
    },
    {
     "name": "stderr",
     "output_type": "stream",
     "text": [
      "Epoch:  34%|███▍      | 17/50 [00:33<01:04,  1.94s/it]"
     ]
    },
    {
     "name": "stdout",
     "output_type": "stream",
     "text": [
      "epoch: 16, test val_loss: 0.174361\n",
      "EarlyStopping counter: 2 out of 5\n",
      "epoch: 16, train loss: 4.0535, lr: 0.000200, spent: 33.5 secs\n"
     ]
    },
    {
     "name": "stderr",
     "output_type": "stream",
     "text": [
      "Epoch:  36%|███▌      | 18/50 [00:35<01:01,  1.94s/it]"
     ]
    },
    {
     "name": "stdout",
     "output_type": "stream",
     "text": [
      "epoch: 17, test val_loss: 0.166230\n",
      "EarlyStopping counter: 3 out of 5\n",
      "epoch: 17, train loss: 3.0039, lr: 0.000200, spent: 35.4 secs\n"
     ]
    },
    {
     "name": "stderr",
     "output_type": "stream",
     "text": [
      "Epoch:  38%|███▊      | 19/50 [00:37<00:59,  1.94s/it]"
     ]
    },
    {
     "name": "stdout",
     "output_type": "stream",
     "text": [
      "epoch: 18, test val_loss: 0.157730\n",
      "EarlyStopping counter: 4 out of 5\n",
      "epoch: 18, train loss: 2.8523, lr: 0.000200, spent: 37.3 secs\n"
     ]
    },
    {
     "name": "stderr",
     "output_type": "stream",
     "text": [
      "Epoch:  38%|███▊      | 19/50 [00:39<01:04,  2.07s/it]\n",
      "2024-03-18 07:36:19.801 | INFO     | trainer:train:137 - load best at last from ./checkpoint\n",
      "2024-03-18 07:36:19.820 | INFO     | trainer:save_model:248 - saving model checkpoint to ./checkpoint\n",
      "2024-03-18 07:36:19.991 | INFO     | trainer:train:142 - training complete, cost 39.4 secs.\n"
     ]
    },
    {
     "name": "stdout",
     "output_type": "stream",
     "text": [
      "epoch: 19, test val_loss: 0.178531\n",
      "EarlyStopping counter: 5 out of 5\n",
      "early stopped\n"
     ]
    }
   ],
   "source": [
    "# build transtab classifier model\n",
    "model = transtab.build_classifier(cat_cols, num_cols, bin_cols)\n",
    "\n",
    "# specify training arguments, take validation loss for early stopping\n",
    "training_arguments = {\n",
    "    'num_epoch':50,\n",
    "    'batch_size':128,\n",
    "    'lr':2* 1e-4,\n",
    "    'eval_metric':'val_loss',\n",
    "    'eval_less_is_better':True,\n",
    "    'output_dir':'./checkpoint'\n",
    "    }\n",
    "transtab.train(model, trainset, valset, **training_arguments)"
   ]
  },
  {
   "cell_type": "code",
   "execution_count": 15,
   "id": "f2def0b8",
   "metadata": {},
   "outputs": [
    {
     "data": {
      "text/plain": [
       "[0.990145799779605]"
      ]
     },
     "execution_count": 15,
     "metadata": {},
     "output_type": "execute_result"
    }
   ],
   "source": [
    "x_test, y_test = testset[0]\n",
    "ypred = transtab.predict(model, x_test)\n",
    "transtab.evaluate(ypred, y_test, seed=123, metric='auc')"
   ]
  }
 ],
 "metadata": {
  "kernelspec": {
   "display_name": "Python 3 (ipykernel)",
   "language": "python",
   "name": "python3"
  },
  "language_info": {
   "codemirror_mode": {
    "name": "ipython",
    "version": 3
   },
   "file_extension": ".py",
   "mimetype": "text/x-python",
   "name": "python",
   "nbconvert_exporter": "python",
   "pygments_lexer": "ipython3",
   "version": "3.9.7"
  }
 },
 "nbformat": 4,
 "nbformat_minor": 5
}
