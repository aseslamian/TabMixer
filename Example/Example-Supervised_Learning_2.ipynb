{
 "cells": [
  {
   "cell_type": "code",
   "execution_count": 1,
   "metadata": {},
   "outputs": [],
   "source": [
    "import dataset\n",
    "import evaluator\n",
    "import transtab\n",
    "import torch\n",
    "import random\n",
    "import os\n",
    "from itertools import product\n",
    "import numpy as np"
   ]
  },
  {
   "cell_type": "code",
   "execution_count": 2,
   "metadata": {},
   "outputs": [],
   "source": [
    "# path = [r'C:\\Users\\Ali\\Code\\TransTAB\\FIRST-CODE\\DATA\\Credit-g(CG)\\rawDATA']  # Credit-g(CG)\n",
    "path = [r'C:\\Users\\Ali\\Code\\TransTAB\\FIRST-CODE\\DATA\\Credit-g(CG)\\Preprocessed']  # Credit-g(CG) # SEED 10 & DIM 60\n",
    "# path = [r'C:\\Users\\Ali\\Code\\TransTAB\\FIRST-CODE\\DATA\\Credit-approval(CA)\\Preprocessed'] # Credit-approval(CA)  # SEED 222 & DIM 50\n",
    "# path = [r'C:\\Users\\Ali\\Code\\TransTAB\\FIRST-CODE\\DATA\\dress-sale(DS)\\Preprocessed'] # dress-sale(DS)   # SEED 10 & DIM 157 (AUC 60.9)\n",
    "# path = [r'C:\\Users\\Ali\\Code\\TransTAB\\FIRST-CODE\\DATA\\Adult(AD)\\Preprocessed'] # Adult(AD)  # DIM 105\n",
    "# path = [r'C:\\Users\\Ali\\Code\\TransTAB\\FIRST-CODE\\DATA\\cylinder-bands(CB)\\Preprocessed']  # cylinder-bands(CB)   # DIM 557 \n",
    "# path = [r'C:\\Users\\Ali\\Code\\TransTAB\\FIRST-CODE\\DATA\\Blastchar(BL)\\Preprocessed']   # Blastchar(BL) \n",
    "# path = [r'C:\\Users\\Ali\\Code\\TransTAB\\FIRST-CODE\\DATA\\insurance+company(IO)\\Preprocessed']   # insurance+company(IO)   # SEED 10 & DIM 75\n",
    "# path = [r'C:\\Users\\Ali\\Code\\TransTAB\\FIRST-CODE\\DATA\\income (IC)\\Preprocessed'] # income (IC)"
   ]
  },
  {
   "cell_type": "code",
   "execution_count": 3,
   "metadata": {},
   "outputs": [
    {
     "name": "stdout",
     "output_type": "stream",
     "text": [
      "########################################\n",
      "load from local data dir C:\\Users\\Ali\\Code\\TransTAB\\FIRST-CODE\\DATA\\insurance+company(IO)\\Preprocessed\n",
      "# data: 7524, # feat: 85, # cate: 0,  # bin: 9, # numerical: 76, pos rate: 0.50\n"
     ]
    }
   ],
   "source": [
    "# load multiple datasets by passing a list of data names\n",
    "allset, trainset, valset, testset, cat_cols, num_cols, bin_cols = transtab.load_data(path)"
   ]
  },
  {
   "cell_type": "code",
   "execution_count": 4,
   "metadata": {},
   "outputs": [
    {
     "name": "stderr",
     "output_type": "stream",
     "text": [
      "Epoch:   2%|▏         | 1/50 [00:02<02:22,  2.91s/it]"
     ]
    },
    {
     "name": "stdout",
     "output_type": "stream",
     "text": [
      "epoch: 0, test val_loss: 0.648778\n",
      "epoch: 0, train loss: 25.8205, lr: 0.010000, spent: 2.9 secs\n"
     ]
    },
    {
     "name": "stderr",
     "output_type": "stream",
     "text": [
      "Epoch:   4%|▍         | 2/50 [00:04<01:51,  2.32s/it]"
     ]
    },
    {
     "name": "stdout",
     "output_type": "stream",
     "text": [
      "epoch: 1, test val_loss: 0.564870\n",
      "epoch: 1, train loss: 23.1182, lr: 0.010000, spent: 4.8 secs\n"
     ]
    },
    {
     "name": "stderr",
     "output_type": "stream",
     "text": [
      "Epoch:   6%|▌         | 3/50 [00:06<01:41,  2.16s/it]"
     ]
    },
    {
     "name": "stdout",
     "output_type": "stream",
     "text": [
      "epoch: 2, test val_loss: 0.553976\n",
      "epoch: 2, train loss: 20.9115, lr: 0.010000, spent: 6.8 secs\n"
     ]
    },
    {
     "name": "stderr",
     "output_type": "stream",
     "text": [
      "Epoch:   8%|▊         | 4/50 [00:08<01:35,  2.07s/it]"
     ]
    },
    {
     "name": "stdout",
     "output_type": "stream",
     "text": [
      "epoch: 3, test val_loss: 0.439508\n",
      "epoch: 3, train loss: 19.6064, lr: 0.010000, spent: 8.7 secs\n"
     ]
    },
    {
     "name": "stderr",
     "output_type": "stream",
     "text": [
      "Epoch:  10%|█         | 5/50 [00:10<01:31,  2.02s/it]"
     ]
    },
    {
     "name": "stdout",
     "output_type": "stream",
     "text": [
      "epoch: 4, test val_loss: 0.483946\n",
      "EarlyStopping counter: 1 out of 5\n",
      "epoch: 4, train loss: 18.5120, lr: 0.010000, spent: 10.7 secs\n"
     ]
    },
    {
     "name": "stderr",
     "output_type": "stream",
     "text": [
      "Epoch:  12%|█▏        | 6/50 [00:12<01:27,  1.98s/it]"
     ]
    },
    {
     "name": "stdout",
     "output_type": "stream",
     "text": [
      "epoch: 5, test val_loss: 0.397655\n",
      "epoch: 5, train loss: 16.9186, lr: 0.010000, spent: 12.6 secs\n"
     ]
    },
    {
     "name": "stderr",
     "output_type": "stream",
     "text": [
      "Epoch:  14%|█▍        | 7/50 [00:14<01:22,  1.93s/it]"
     ]
    },
    {
     "name": "stdout",
     "output_type": "stream",
     "text": [
      "epoch: 6, test val_loss: 0.462177\n",
      "EarlyStopping counter: 1 out of 5\n",
      "epoch: 6, train loss: 15.9515, lr: 0.010000, spent: 14.4 secs\n"
     ]
    },
    {
     "name": "stderr",
     "output_type": "stream",
     "text": [
      "Epoch:  16%|█▌        | 8/50 [00:16<01:20,  1.92s/it]"
     ]
    },
    {
     "name": "stdout",
     "output_type": "stream",
     "text": [
      "epoch: 7, test val_loss: 0.324632\n",
      "epoch: 7, train loss: 16.1768, lr: 0.010000, spent: 16.3 secs\n"
     ]
    },
    {
     "name": "stderr",
     "output_type": "stream",
     "text": [
      "Epoch:  18%|█▊        | 9/50 [00:18<01:18,  1.91s/it]"
     ]
    },
    {
     "name": "stdout",
     "output_type": "stream",
     "text": [
      "epoch: 8, test val_loss: 0.390046\n",
      "EarlyStopping counter: 1 out of 5\n",
      "epoch: 8, train loss: 14.2754, lr: 0.010000, spent: 18.2 secs\n"
     ]
    },
    {
     "name": "stderr",
     "output_type": "stream",
     "text": [
      "Epoch:  20%|██        | 10/50 [00:19<01:15,  1.89s/it]"
     ]
    },
    {
     "name": "stdout",
     "output_type": "stream",
     "text": [
      "epoch: 9, test val_loss: 0.411772\n",
      "EarlyStopping counter: 2 out of 5\n",
      "epoch: 9, train loss: 12.4367, lr: 0.010000, spent: 20.0 secs\n"
     ]
    },
    {
     "name": "stderr",
     "output_type": "stream",
     "text": [
      "Epoch:  22%|██▏       | 11/50 [00:21<01:13,  1.88s/it]"
     ]
    },
    {
     "name": "stdout",
     "output_type": "stream",
     "text": [
      "epoch: 10, test val_loss: 0.388159\n",
      "EarlyStopping counter: 3 out of 5\n",
      "epoch: 10, train loss: 12.4636, lr: 0.010000, spent: 21.9 secs\n"
     ]
    },
    {
     "name": "stderr",
     "output_type": "stream",
     "text": [
      "Epoch:  24%|██▍       | 12/50 [00:23<01:11,  1.87s/it]"
     ]
    },
    {
     "name": "stdout",
     "output_type": "stream",
     "text": [
      "epoch: 11, test val_loss: 0.484436\n",
      "EarlyStopping counter: 4 out of 5\n",
      "epoch: 11, train loss: 10.8039, lr: 0.010000, spent: 23.7 secs\n"
     ]
    },
    {
     "name": "stderr",
     "output_type": "stream",
     "text": [
      "Epoch:  24%|██▍       | 12/50 [00:25<01:21,  2.13s/it]\n",
      "2024-03-28 02:35:08.608 | INFO     | trainer:train:137 - load best at last from ./checkpoint\n",
      "2024-03-28 02:35:08.632 | INFO     | trainer:save_model:248 - saving model checkpoint to ./checkpoint\n",
      "2024-03-28 02:35:08.748 | INFO     | trainer:train:142 - training complete, cost 25.7 secs.\n"
     ]
    },
    {
     "name": "stdout",
     "output_type": "stream",
     "text": [
      "epoch: 12, test val_loss: 0.424752\n",
      "EarlyStopping counter: 5 out of 5\n",
      "early stopped\n"
     ]
    },
    {
     "name": "stderr",
     "output_type": "stream",
     "text": [
      "Epoch:   2%|▏         | 1/50 [00:01<01:31,  1.88s/it]"
     ]
    },
    {
     "name": "stdout",
     "output_type": "stream",
     "text": [
      "epoch: 0, test val_loss: 0.532807\n",
      "epoch: 0, train loss: 25.7250, lr: 0.005000, spent: 1.9 secs\n"
     ]
    },
    {
     "name": "stderr",
     "output_type": "stream",
     "text": [
      "Epoch:   4%|▍         | 2/50 [00:03<01:30,  1.88s/it]"
     ]
    },
    {
     "name": "stdout",
     "output_type": "stream",
     "text": [
      "epoch: 1, test val_loss: 0.508195\n",
      "epoch: 1, train loss: 22.4564, lr: 0.005000, spent: 3.8 secs\n"
     ]
    },
    {
     "name": "stderr",
     "output_type": "stream",
     "text": [
      "Epoch:   6%|▌         | 3/50 [00:05<01:28,  1.89s/it]"
     ]
    },
    {
     "name": "stdout",
     "output_type": "stream",
     "text": [
      "epoch: 2, test val_loss: 0.446771\n",
      "epoch: 2, train loss: 20.4536, lr: 0.005000, spent: 5.7 secs\n"
     ]
    },
    {
     "name": "stderr",
     "output_type": "stream",
     "text": [
      "Epoch:   8%|▊         | 4/50 [00:07<01:26,  1.87s/it]"
     ]
    },
    {
     "name": "stdout",
     "output_type": "stream",
     "text": [
      "epoch: 3, test val_loss: 0.518624\n",
      "EarlyStopping counter: 1 out of 5\n",
      "epoch: 3, train loss: 19.5319, lr: 0.005000, spent: 7.5 secs\n"
     ]
    },
    {
     "name": "stderr",
     "output_type": "stream",
     "text": [
      "Epoch:  10%|█         | 5/50 [00:09<01:24,  1.88s/it]"
     ]
    },
    {
     "name": "stdout",
     "output_type": "stream",
     "text": [
      "epoch: 4, test val_loss: 0.413901\n",
      "epoch: 4, train loss: 18.3476, lr: 0.005000, spent: 9.4 secs\n"
     ]
    },
    {
     "name": "stderr",
     "output_type": "stream",
     "text": [
      "Epoch:  12%|█▏        | 6/50 [00:11<01:22,  1.88s/it]"
     ]
    },
    {
     "name": "stdout",
     "output_type": "stream",
     "text": [
      "epoch: 5, test val_loss: 0.390265\n",
      "epoch: 5, train loss: 18.1037, lr: 0.005000, spent: 11.3 secs\n"
     ]
    },
    {
     "name": "stderr",
     "output_type": "stream",
     "text": [
      "Epoch:  14%|█▍        | 7/50 [00:13<01:20,  1.87s/it]"
     ]
    },
    {
     "name": "stdout",
     "output_type": "stream",
     "text": [
      "epoch: 6, test val_loss: 0.497115\n",
      "EarlyStopping counter: 1 out of 5\n",
      "epoch: 6, train loss: 16.7180, lr: 0.005000, spent: 13.1 secs\n"
     ]
    },
    {
     "name": "stderr",
     "output_type": "stream",
     "text": [
      "Epoch:  16%|█▌        | 8/50 [00:14<01:18,  1.87s/it]"
     ]
    },
    {
     "name": "stdout",
     "output_type": "stream",
     "text": [
      "epoch: 7, test val_loss: 0.368124\n",
      "epoch: 7, train loss: 15.0632, lr: 0.005000, spent: 15.0 secs\n"
     ]
    },
    {
     "name": "stderr",
     "output_type": "stream",
     "text": [
      "Epoch:  18%|█▊        | 9/50 [00:16<01:16,  1.88s/it]"
     ]
    },
    {
     "name": "stdout",
     "output_type": "stream",
     "text": [
      "epoch: 8, test val_loss: 0.350047\n",
      "epoch: 8, train loss: 14.5818, lr: 0.005000, spent: 16.9 secs\n"
     ]
    },
    {
     "name": "stderr",
     "output_type": "stream",
     "text": [
      "Epoch:  20%|██        | 10/50 [00:18<01:14,  1.87s/it]"
     ]
    },
    {
     "name": "stdout",
     "output_type": "stream",
     "text": [
      "epoch: 9, test val_loss: 0.376302\n",
      "EarlyStopping counter: 1 out of 5\n",
      "epoch: 9, train loss: 13.6337, lr: 0.005000, spent: 18.7 secs\n"
     ]
    },
    {
     "name": "stderr",
     "output_type": "stream",
     "text": [
      "Epoch:  22%|██▏       | 11/50 [00:20<01:12,  1.86s/it]"
     ]
    },
    {
     "name": "stdout",
     "output_type": "stream",
     "text": [
      "epoch: 10, test val_loss: 0.541972\n",
      "EarlyStopping counter: 2 out of 5\n",
      "epoch: 10, train loss: 13.8245, lr: 0.005000, spent: 20.6 secs\n"
     ]
    },
    {
     "name": "stderr",
     "output_type": "stream",
     "text": [
      "Epoch:  24%|██▍       | 12/50 [00:22<01:10,  1.87s/it]"
     ]
    },
    {
     "name": "stdout",
     "output_type": "stream",
     "text": [
      "epoch: 11, test val_loss: 0.309805\n",
      "epoch: 11, train loss: 12.5898, lr: 0.005000, spent: 22.5 secs\n"
     ]
    },
    {
     "name": "stderr",
     "output_type": "stream",
     "text": [
      "Epoch:  26%|██▌       | 13/50 [00:24<01:09,  1.87s/it]"
     ]
    },
    {
     "name": "stdout",
     "output_type": "stream",
     "text": [
      "epoch: 12, test val_loss: 0.539793\n",
      "EarlyStopping counter: 1 out of 5\n",
      "epoch: 12, train loss: 11.6376, lr: 0.005000, spent: 24.3 secs\n"
     ]
    },
    {
     "name": "stderr",
     "output_type": "stream",
     "text": [
      "Epoch:  28%|██▊       | 14/50 [00:26<01:07,  1.86s/it]"
     ]
    },
    {
     "name": "stdout",
     "output_type": "stream",
     "text": [
      "epoch: 13, test val_loss: 0.348067\n",
      "EarlyStopping counter: 2 out of 5\n",
      "epoch: 13, train loss: 11.2630, lr: 0.005000, spent: 26.2 secs\n"
     ]
    },
    {
     "name": "stderr",
     "output_type": "stream",
     "text": [
      "Epoch:  30%|███       | 15/50 [00:28<01:05,  1.87s/it]"
     ]
    },
    {
     "name": "stdout",
     "output_type": "stream",
     "text": [
      "epoch: 14, test val_loss: 0.266216\n",
      "epoch: 14, train loss: 10.3450, lr: 0.005000, spent: 28.1 secs\n"
     ]
    },
    {
     "name": "stderr",
     "output_type": "stream",
     "text": [
      "Epoch:  32%|███▏      | 16/50 [00:29<01:03,  1.87s/it]"
     ]
    },
    {
     "name": "stdout",
     "output_type": "stream",
     "text": [
      "epoch: 15, test val_loss: 0.279307\n",
      "EarlyStopping counter: 1 out of 5\n",
      "epoch: 15, train loss: 11.4898, lr: 0.005000, spent: 29.9 secs\n"
     ]
    },
    {
     "name": "stderr",
     "output_type": "stream",
     "text": [
      "Epoch:  34%|███▍      | 17/50 [00:31<01:01,  1.87s/it]"
     ]
    },
    {
     "name": "stdout",
     "output_type": "stream",
     "text": [
      "epoch: 16, test val_loss: 0.606624\n",
      "EarlyStopping counter: 2 out of 5\n",
      "epoch: 16, train loss: 9.2233, lr: 0.005000, spent: 31.8 secs\n"
     ]
    },
    {
     "name": "stderr",
     "output_type": "stream",
     "text": [
      "Epoch:  36%|███▌      | 18/50 [00:33<00:59,  1.86s/it]"
     ]
    },
    {
     "name": "stdout",
     "output_type": "stream",
     "text": [
      "epoch: 17, test val_loss: 0.290423\n",
      "EarlyStopping counter: 3 out of 5\n",
      "epoch: 17, train loss: 9.4323, lr: 0.005000, spent: 33.6 secs\n"
     ]
    },
    {
     "name": "stderr",
     "output_type": "stream",
     "text": [
      "Epoch:  38%|███▊      | 19/50 [00:35<00:57,  1.86s/it]"
     ]
    },
    {
     "name": "stdout",
     "output_type": "stream",
     "text": [
      "epoch: 18, test val_loss: 0.574256\n",
      "EarlyStopping counter: 4 out of 5\n",
      "epoch: 18, train loss: 8.9295, lr: 0.005000, spent: 35.5 secs\n"
     ]
    },
    {
     "name": "stderr",
     "output_type": "stream",
     "text": [
      "Epoch:  38%|███▊      | 19/50 [00:37<01:00,  1.97s/it]\n",
      "2024-03-28 02:35:46.359 | INFO     | trainer:train:137 - load best at last from ./checkpoint\n",
      "2024-03-28 02:35:46.384 | INFO     | trainer:save_model:248 - saving model checkpoint to ./checkpoint\n",
      "2024-03-28 02:35:46.498 | INFO     | trainer:train:142 - training complete, cost 37.5 secs.\n"
     ]
    },
    {
     "name": "stdout",
     "output_type": "stream",
     "text": [
      "epoch: 19, test val_loss: 0.308931\n",
      "EarlyStopping counter: 5 out of 5\n",
      "early stopped\n"
     ]
    },
    {
     "name": "stderr",
     "output_type": "stream",
     "text": [
      "Epoch:   2%|▏         | 1/50 [00:01<01:32,  1.89s/it]"
     ]
    },
    {
     "name": "stdout",
     "output_type": "stream",
     "text": [
      "epoch: 0, test val_loss: 0.623640\n",
      "epoch: 0, train loss: 27.6730, lr: 0.001000, spent: 1.9 secs\n"
     ]
    },
    {
     "name": "stderr",
     "output_type": "stream",
     "text": [
      "Epoch:   4%|▍         | 2/50 [00:03<01:30,  1.88s/it]"
     ]
    },
    {
     "name": "stdout",
     "output_type": "stream",
     "text": [
      "epoch: 1, test val_loss: 0.591580\n",
      "epoch: 1, train loss: 25.0348, lr: 0.001000, spent: 3.8 secs\n"
     ]
    },
    {
     "name": "stderr",
     "output_type": "stream",
     "text": [
      "Epoch:   6%|▌         | 3/50 [00:05<01:28,  1.89s/it]"
     ]
    },
    {
     "name": "stdout",
     "output_type": "stream",
     "text": [
      "epoch: 2, test val_loss: 0.582593\n",
      "epoch: 2, train loss: 23.5435, lr: 0.001000, spent: 5.7 secs\n"
     ]
    },
    {
     "name": "stderr",
     "output_type": "stream",
     "text": [
      "Epoch:   8%|▊         | 4/50 [00:07<01:27,  1.91s/it]"
     ]
    },
    {
     "name": "stdout",
     "output_type": "stream",
     "text": [
      "epoch: 3, test val_loss: 0.557085\n",
      "epoch: 3, train loss: 22.3507, lr: 0.001000, spent: 7.6 secs\n"
     ]
    },
    {
     "name": "stderr",
     "output_type": "stream",
     "text": [
      "Epoch:  10%|█         | 5/50 [00:09<01:27,  1.93s/it]"
     ]
    },
    {
     "name": "stdout",
     "output_type": "stream",
     "text": [
      "epoch: 4, test val_loss: 0.498186\n",
      "epoch: 4, train loss: 21.4675, lr: 0.001000, spent: 9.6 secs\n"
     ]
    },
    {
     "name": "stderr",
     "output_type": "stream",
     "text": [
      "Epoch:  12%|█▏        | 6/50 [00:11<01:25,  1.94s/it]"
     ]
    },
    {
     "name": "stdout",
     "output_type": "stream",
     "text": [
      "epoch: 5, test val_loss: 0.564124\n",
      "EarlyStopping counter: 1 out of 5\n",
      "epoch: 5, train loss: 20.5803, lr: 0.001000, spent: 11.5 secs\n"
     ]
    },
    {
     "name": "stderr",
     "output_type": "stream",
     "text": [
      "Epoch:  14%|█▍        | 7/50 [00:13<01:23,  1.94s/it]"
     ]
    },
    {
     "name": "stdout",
     "output_type": "stream",
     "text": [
      "epoch: 6, test val_loss: 0.492140\n",
      "epoch: 6, train loss: 19.7898, lr: 0.001000, spent: 13.5 secs\n"
     ]
    },
    {
     "name": "stderr",
     "output_type": "stream",
     "text": [
      "Epoch:  16%|█▌        | 8/50 [00:15<01:21,  1.94s/it]"
     ]
    },
    {
     "name": "stdout",
     "output_type": "stream",
     "text": [
      "epoch: 7, test val_loss: 0.510055\n",
      "EarlyStopping counter: 1 out of 5\n",
      "epoch: 7, train loss: 19.0242, lr: 0.001000, spent: 15.4 secs\n"
     ]
    },
    {
     "name": "stderr",
     "output_type": "stream",
     "text": [
      "Epoch:  18%|█▊        | 9/50 [00:17<01:19,  1.94s/it]"
     ]
    },
    {
     "name": "stdout",
     "output_type": "stream",
     "text": [
      "epoch: 8, test val_loss: 0.434164\n",
      "epoch: 8, train loss: 18.4050, lr: 0.001000, spent: 17.4 secs\n"
     ]
    },
    {
     "name": "stderr",
     "output_type": "stream",
     "text": [
      "Epoch:  20%|██        | 10/50 [00:19<01:18,  1.96s/it]"
     ]
    },
    {
     "name": "stdout",
     "output_type": "stream",
     "text": [
      "epoch: 9, test val_loss: 0.439833\n",
      "EarlyStopping counter: 1 out of 5\n",
      "epoch: 9, train loss: 17.4741, lr: 0.001000, spent: 19.4 secs\n"
     ]
    },
    {
     "name": "stderr",
     "output_type": "stream",
     "text": [
      "Epoch:  22%|██▏       | 11/50 [00:21<01:15,  1.95s/it]"
     ]
    },
    {
     "name": "stdout",
     "output_type": "stream",
     "text": [
      "epoch: 10, test val_loss: 0.479903\n",
      "EarlyStopping counter: 2 out of 5\n",
      "epoch: 10, train loss: 17.1497, lr: 0.001000, spent: 21.3 secs\n"
     ]
    },
    {
     "name": "stderr",
     "output_type": "stream",
     "text": [
      "Epoch:  24%|██▍       | 12/50 [00:23<01:13,  1.93s/it]"
     ]
    },
    {
     "name": "stdout",
     "output_type": "stream",
     "text": [
      "epoch: 11, test val_loss: 0.407119\n",
      "epoch: 11, train loss: 16.5464, lr: 0.001000, spent: 23.2 secs\n"
     ]
    },
    {
     "name": "stderr",
     "output_type": "stream",
     "text": [
      "Epoch:  26%|██▌       | 13/50 [00:25<01:10,  1.91s/it]"
     ]
    },
    {
     "name": "stdout",
     "output_type": "stream",
     "text": [
      "epoch: 12, test val_loss: 0.512541\n",
      "EarlyStopping counter: 1 out of 5\n",
      "epoch: 12, train loss: 16.0269, lr: 0.001000, spent: 25.0 secs\n"
     ]
    },
    {
     "name": "stderr",
     "output_type": "stream",
     "text": [
      "Epoch:  28%|██▊       | 14/50 [00:26<01:08,  1.90s/it]"
     ]
    },
    {
     "name": "stdout",
     "output_type": "stream",
     "text": [
      "epoch: 13, test val_loss: 0.399806\n",
      "epoch: 13, train loss: 15.3807, lr: 0.001000, spent: 26.9 secs\n"
     ]
    },
    {
     "name": "stderr",
     "output_type": "stream",
     "text": [
      "Epoch:  30%|███       | 15/50 [00:28<01:06,  1.89s/it]"
     ]
    },
    {
     "name": "stdout",
     "output_type": "stream",
     "text": [
      "epoch: 14, test val_loss: 0.369514\n",
      "epoch: 14, train loss: 15.1178, lr: 0.001000, spent: 28.8 secs\n"
     ]
    },
    {
     "name": "stderr",
     "output_type": "stream",
     "text": [
      "Epoch:  32%|███▏      | 16/50 [00:30<01:03,  1.88s/it]"
     ]
    },
    {
     "name": "stdout",
     "output_type": "stream",
     "text": [
      "epoch: 15, test val_loss: 0.400517\n",
      "EarlyStopping counter: 1 out of 5\n",
      "epoch: 15, train loss: 14.3892, lr: 0.001000, spent: 30.7 secs\n"
     ]
    },
    {
     "name": "stderr",
     "output_type": "stream",
     "text": [
      "Epoch:  34%|███▍      | 17/50 [00:32<01:02,  1.88s/it]"
     ]
    },
    {
     "name": "stdout",
     "output_type": "stream",
     "text": [
      "epoch: 16, test val_loss: 0.390345\n",
      "EarlyStopping counter: 2 out of 5\n",
      "epoch: 16, train loss: 14.0771, lr: 0.001000, spent: 32.5 secs\n"
     ]
    },
    {
     "name": "stderr",
     "output_type": "stream",
     "text": [
      "Epoch:  36%|███▌      | 18/50 [00:34<01:00,  1.88s/it]"
     ]
    },
    {
     "name": "stdout",
     "output_type": "stream",
     "text": [
      "epoch: 17, test val_loss: 0.332325\n",
      "epoch: 17, train loss: 13.7074, lr: 0.001000, spent: 34.4 secs\n"
     ]
    },
    {
     "name": "stderr",
     "output_type": "stream",
     "text": [
      "Epoch:  38%|███▊      | 19/50 [00:36<00:57,  1.87s/it]"
     ]
    },
    {
     "name": "stdout",
     "output_type": "stream",
     "text": [
      "epoch: 18, test val_loss: 0.397830\n",
      "EarlyStopping counter: 1 out of 5\n",
      "epoch: 18, train loss: 13.4509, lr: 0.001000, spent: 36.3 secs\n"
     ]
    },
    {
     "name": "stderr",
     "output_type": "stream",
     "text": [
      "Epoch:  40%|████      | 20/50 [00:38<00:56,  1.87s/it]"
     ]
    },
    {
     "name": "stdout",
     "output_type": "stream",
     "text": [
      "epoch: 19, test val_loss: 0.326047\n",
      "epoch: 19, train loss: 12.9605, lr: 0.001000, spent: 38.1 secs\n"
     ]
    },
    {
     "name": "stderr",
     "output_type": "stream",
     "text": [
      "Epoch:  42%|████▏     | 21/50 [00:39<00:54,  1.87s/it]"
     ]
    },
    {
     "name": "stdout",
     "output_type": "stream",
     "text": [
      "epoch: 20, test val_loss: 0.412462\n",
      "EarlyStopping counter: 1 out of 5\n",
      "epoch: 20, train loss: 12.3257, lr: 0.001000, spent: 40.0 secs\n"
     ]
    },
    {
     "name": "stderr",
     "output_type": "stream",
     "text": [
      "Epoch:  44%|████▍     | 22/50 [00:41<00:52,  1.88s/it]"
     ]
    },
    {
     "name": "stdout",
     "output_type": "stream",
     "text": [
      "epoch: 21, test val_loss: 0.319600\n",
      "epoch: 21, train loss: 11.8698, lr: 0.001000, spent: 41.9 secs\n"
     ]
    },
    {
     "name": "stderr",
     "output_type": "stream",
     "text": [
      "Epoch:  46%|████▌     | 23/50 [00:43<00:50,  1.88s/it]"
     ]
    },
    {
     "name": "stdout",
     "output_type": "stream",
     "text": [
      "epoch: 22, test val_loss: 0.311161\n",
      "epoch: 22, train loss: 11.9211, lr: 0.001000, spent: 43.8 secs\n"
     ]
    },
    {
     "name": "stderr",
     "output_type": "stream",
     "text": [
      "Epoch:  48%|████▊     | 24/50 [00:45<00:48,  1.88s/it]"
     ]
    },
    {
     "name": "stdout",
     "output_type": "stream",
     "text": [
      "epoch: 23, test val_loss: 0.303163\n",
      "epoch: 23, train loss: 11.5456, lr: 0.001000, spent: 45.7 secs\n"
     ]
    },
    {
     "name": "stderr",
     "output_type": "stream",
     "text": [
      "Epoch:  50%|█████     | 25/50 [00:47<00:46,  1.87s/it]"
     ]
    },
    {
     "name": "stdout",
     "output_type": "stream",
     "text": [
      "epoch: 24, test val_loss: 0.321077\n",
      "EarlyStopping counter: 1 out of 5\n",
      "epoch: 24, train loss: 11.3954, lr: 0.001000, spent: 47.5 secs\n"
     ]
    },
    {
     "name": "stderr",
     "output_type": "stream",
     "text": [
      "Epoch:  52%|█████▏    | 26/50 [00:49<00:44,  1.87s/it]"
     ]
    },
    {
     "name": "stdout",
     "output_type": "stream",
     "text": [
      "epoch: 25, test val_loss: 0.380555\n",
      "EarlyStopping counter: 2 out of 5\n",
      "epoch: 25, train loss: 10.9358, lr: 0.001000, spent: 49.4 secs\n"
     ]
    },
    {
     "name": "stderr",
     "output_type": "stream",
     "text": [
      "Epoch:  54%|█████▍    | 27/50 [00:51<00:42,  1.87s/it]"
     ]
    },
    {
     "name": "stdout",
     "output_type": "stream",
     "text": [
      "epoch: 26, test val_loss: 0.494360\n",
      "EarlyStopping counter: 3 out of 5\n",
      "epoch: 26, train loss: 10.8463, lr: 0.001000, spent: 51.2 secs\n"
     ]
    },
    {
     "name": "stderr",
     "output_type": "stream",
     "text": [
      "Epoch:  56%|█████▌    | 28/50 [00:53<00:41,  1.87s/it]"
     ]
    },
    {
     "name": "stdout",
     "output_type": "stream",
     "text": [
      "epoch: 27, test val_loss: 0.272045\n",
      "epoch: 27, train loss: 10.2516, lr: 0.001000, spent: 53.1 secs\n"
     ]
    },
    {
     "name": "stderr",
     "output_type": "stream",
     "text": [
      "Epoch:  58%|█████▊    | 29/50 [00:54<00:39,  1.87s/it]"
     ]
    },
    {
     "name": "stdout",
     "output_type": "stream",
     "text": [
      "epoch: 28, test val_loss: 0.285669\n",
      "EarlyStopping counter: 1 out of 5\n",
      "epoch: 28, train loss: 10.4809, lr: 0.001000, spent: 55.0 secs\n"
     ]
    },
    {
     "name": "stderr",
     "output_type": "stream",
     "text": [
      "Epoch:  60%|██████    | 30/50 [00:56<00:37,  1.87s/it]"
     ]
    },
    {
     "name": "stdout",
     "output_type": "stream",
     "text": [
      "epoch: 29, test val_loss: 0.260465\n",
      "epoch: 29, train loss: 9.3924, lr: 0.001000, spent: 56.9 secs\n"
     ]
    },
    {
     "name": "stderr",
     "output_type": "stream",
     "text": [
      "Epoch:  62%|██████▏   | 31/50 [00:58<00:35,  1.87s/it]"
     ]
    },
    {
     "name": "stdout",
     "output_type": "stream",
     "text": [
      "epoch: 30, test val_loss: 0.446375\n",
      "EarlyStopping counter: 1 out of 5\n",
      "epoch: 30, train loss: 9.5648, lr: 0.001000, spent: 58.7 secs\n"
     ]
    },
    {
     "name": "stderr",
     "output_type": "stream",
     "text": [
      "Epoch:  64%|██████▍   | 32/50 [01:00<00:33,  1.87s/it]"
     ]
    },
    {
     "name": "stdout",
     "output_type": "stream",
     "text": [
      "epoch: 31, test val_loss: 0.260846\n",
      "EarlyStopping counter: 2 out of 5\n",
      "epoch: 31, train loss: 9.5501, lr: 0.001000, spent: 60.6 secs\n"
     ]
    },
    {
     "name": "stderr",
     "output_type": "stream",
     "text": [
      "Epoch:  66%|██████▌   | 33/50 [01:02<00:31,  1.87s/it]"
     ]
    },
    {
     "name": "stdout",
     "output_type": "stream",
     "text": [
      "epoch: 32, test val_loss: 0.330261\n",
      "EarlyStopping counter: 3 out of 5\n",
      "epoch: 32, train loss: 9.1160, lr: 0.001000, spent: 62.5 secs\n"
     ]
    },
    {
     "name": "stderr",
     "output_type": "stream",
     "text": [
      "Epoch:  68%|██████▊   | 34/50 [01:04<00:29,  1.86s/it]"
     ]
    },
    {
     "name": "stdout",
     "output_type": "stream",
     "text": [
      "epoch: 33, test val_loss: 0.313011\n",
      "EarlyStopping counter: 4 out of 5\n",
      "epoch: 33, train loss: 8.6932, lr: 0.001000, spent: 64.3 secs\n"
     ]
    },
    {
     "name": "stderr",
     "output_type": "stream",
     "text": [
      "Epoch:  70%|███████   | 35/50 [01:06<00:28,  1.87s/it]"
     ]
    },
    {
     "name": "stdout",
     "output_type": "stream",
     "text": [
      "epoch: 34, test val_loss: 0.256823\n",
      "epoch: 34, train loss: 9.1559, lr: 0.001000, spent: 66.2 secs\n"
     ]
    },
    {
     "name": "stderr",
     "output_type": "stream",
     "text": [
      "Epoch:  72%|███████▏  | 36/50 [01:08<00:26,  1.87s/it]"
     ]
    },
    {
     "name": "stdout",
     "output_type": "stream",
     "text": [
      "epoch: 35, test val_loss: 0.246458\n",
      "epoch: 35, train loss: 7.8637, lr: 0.001000, spent: 68.1 secs\n"
     ]
    },
    {
     "name": "stderr",
     "output_type": "stream",
     "text": [
      "Epoch:  74%|███████▍  | 37/50 [01:09<00:24,  1.88s/it]"
     ]
    },
    {
     "name": "stdout",
     "output_type": "stream",
     "text": [
      "epoch: 36, test val_loss: 0.278198\n",
      "EarlyStopping counter: 1 out of 5\n",
      "epoch: 36, train loss: 8.0299, lr: 0.001000, spent: 70.0 secs\n"
     ]
    },
    {
     "name": "stderr",
     "output_type": "stream",
     "text": [
      "Epoch:  76%|███████▌  | 38/50 [01:11<00:22,  1.88s/it]"
     ]
    },
    {
     "name": "stdout",
     "output_type": "stream",
     "text": [
      "epoch: 37, test val_loss: 0.345685\n",
      "EarlyStopping counter: 2 out of 5\n",
      "epoch: 37, train loss: 7.8664, lr: 0.001000, spent: 71.8 secs\n"
     ]
    },
    {
     "name": "stderr",
     "output_type": "stream",
     "text": [
      "Epoch:  78%|███████▊  | 39/50 [01:13<00:20,  1.88s/it]"
     ]
    },
    {
     "name": "stdout",
     "output_type": "stream",
     "text": [
      "epoch: 38, test val_loss: 0.244074\n",
      "epoch: 38, train loss: 7.5999, lr: 0.001000, spent: 73.7 secs\n"
     ]
    },
    {
     "name": "stderr",
     "output_type": "stream",
     "text": [
      "Epoch:  80%|████████  | 40/50 [01:15<00:18,  1.87s/it]"
     ]
    },
    {
     "name": "stdout",
     "output_type": "stream",
     "text": [
      "epoch: 39, test val_loss: 0.361717\n",
      "EarlyStopping counter: 1 out of 5\n",
      "epoch: 39, train loss: 8.0526, lr: 0.001000, spent: 75.6 secs\n"
     ]
    },
    {
     "name": "stderr",
     "output_type": "stream",
     "text": [
      "Epoch:  82%|████████▏ | 41/50 [01:17<00:16,  1.87s/it]"
     ]
    },
    {
     "name": "stdout",
     "output_type": "stream",
     "text": [
      "epoch: 40, test val_loss: 0.231537\n",
      "epoch: 40, train loss: 6.9895, lr: 0.001000, spent: 77.5 secs\n"
     ]
    },
    {
     "name": "stderr",
     "output_type": "stream",
     "text": [
      "Epoch:  84%|████████▍ | 42/50 [01:19<00:14,  1.87s/it]"
     ]
    },
    {
     "name": "stdout",
     "output_type": "stream",
     "text": [
      "epoch: 41, test val_loss: 0.245829\n",
      "EarlyStopping counter: 1 out of 5\n",
      "epoch: 41, train loss: 7.2904, lr: 0.001000, spent: 79.3 secs\n"
     ]
    },
    {
     "name": "stderr",
     "output_type": "stream",
     "text": [
      "Epoch:  86%|████████▌ | 43/50 [01:21<00:13,  1.87s/it]"
     ]
    },
    {
     "name": "stdout",
     "output_type": "stream",
     "text": [
      "epoch: 42, test val_loss: 0.242033\n",
      "EarlyStopping counter: 2 out of 5\n",
      "epoch: 42, train loss: 7.2416, lr: 0.001000, spent: 81.2 secs\n"
     ]
    },
    {
     "name": "stderr",
     "output_type": "stream",
     "text": [
      "Epoch:  88%|████████▊ | 44/50 [01:23<00:11,  1.88s/it]"
     ]
    },
    {
     "name": "stdout",
     "output_type": "stream",
     "text": [
      "epoch: 43, test val_loss: 0.227812\n",
      "epoch: 43, train loss: 5.9694, lr: 0.001000, spent: 83.1 secs\n"
     ]
    },
    {
     "name": "stderr",
     "output_type": "stream",
     "text": [
      "Epoch:  90%|█████████ | 45/50 [01:24<00:09,  1.87s/it]"
     ]
    },
    {
     "name": "stdout",
     "output_type": "stream",
     "text": [
      "epoch: 44, test val_loss: 0.882899\n",
      "EarlyStopping counter: 1 out of 5\n",
      "epoch: 44, train loss: 6.4565, lr: 0.001000, spent: 84.9 secs\n"
     ]
    },
    {
     "name": "stderr",
     "output_type": "stream",
     "text": [
      "Epoch:  92%|█████████▏| 46/50 [01:26<00:07,  1.87s/it]"
     ]
    },
    {
     "name": "stdout",
     "output_type": "stream",
     "text": [
      "epoch: 45, test val_loss: 0.382323\n",
      "EarlyStopping counter: 2 out of 5\n",
      "epoch: 45, train loss: 6.9057, lr: 0.001000, spent: 86.8 secs\n"
     ]
    },
    {
     "name": "stderr",
     "output_type": "stream",
     "text": [
      "Epoch:  94%|█████████▍| 47/50 [01:28<00:05,  1.86s/it]"
     ]
    },
    {
     "name": "stdout",
     "output_type": "stream",
     "text": [
      "epoch: 46, test val_loss: 0.263859\n",
      "EarlyStopping counter: 3 out of 5\n",
      "epoch: 46, train loss: 6.8495, lr: 0.001000, spent: 88.7 secs\n"
     ]
    },
    {
     "name": "stderr",
     "output_type": "stream",
     "text": [
      "Epoch:  96%|█████████▌| 48/50 [01:30<00:03,  1.86s/it]"
     ]
    },
    {
     "name": "stdout",
     "output_type": "stream",
     "text": [
      "epoch: 47, test val_loss: 0.327341\n",
      "EarlyStopping counter: 4 out of 5\n",
      "epoch: 47, train loss: 6.6977, lr: 0.001000, spent: 90.5 secs\n"
     ]
    },
    {
     "name": "stderr",
     "output_type": "stream",
     "text": [
      "Epoch:  96%|█████████▌| 48/50 [01:32<00:03,  1.92s/it]\n",
      "2024-03-28 02:37:19.150 | INFO     | trainer:train:137 - load best at last from ./checkpoint\n",
      "2024-03-28 02:37:19.171 | INFO     | trainer:save_model:248 - saving model checkpoint to ./checkpoint\n",
      "2024-03-28 02:37:19.302 | INFO     | trainer:train:142 - training complete, cost 92.6 secs.\n"
     ]
    },
    {
     "name": "stdout",
     "output_type": "stream",
     "text": [
      "epoch: 48, test val_loss: 0.229509\n",
      "EarlyStopping counter: 5 out of 5\n",
      "early stopped\n"
     ]
    },
    {
     "name": "stderr",
     "output_type": "stream",
     "text": [
      "Epoch:   2%|▏         | 1/50 [00:01<01:32,  1.89s/it]"
     ]
    },
    {
     "name": "stdout",
     "output_type": "stream",
     "text": [
      "epoch: 0, test val_loss: 0.636000\n",
      "epoch: 0, train loss: 28.3734, lr: 0.000500, spent: 1.9 secs\n"
     ]
    },
    {
     "name": "stderr",
     "output_type": "stream",
     "text": [
      "Epoch:   4%|▍         | 2/50 [00:03<01:31,  1.90s/it]"
     ]
    },
    {
     "name": "stdout",
     "output_type": "stream",
     "text": [
      "epoch: 1, test val_loss: 0.608731\n",
      "epoch: 1, train loss: 26.6035, lr: 0.000500, spent: 3.8 secs\n"
     ]
    },
    {
     "name": "stderr",
     "output_type": "stream",
     "text": [
      "Epoch:   6%|▌         | 3/50 [00:05<01:28,  1.89s/it]"
     ]
    },
    {
     "name": "stdout",
     "output_type": "stream",
     "text": [
      "epoch: 2, test val_loss: 0.578199\n",
      "epoch: 2, train loss: 25.4889, lr: 0.000500, spent: 5.7 secs\n"
     ]
    },
    {
     "name": "stderr",
     "output_type": "stream",
     "text": [
      "Epoch:   8%|▊         | 4/50 [00:07<01:26,  1.89s/it]"
     ]
    },
    {
     "name": "stdout",
     "output_type": "stream",
     "text": [
      "epoch: 3, test val_loss: 0.569158\n",
      "epoch: 3, train loss: 24.5824, lr: 0.000500, spent: 7.6 secs\n"
     ]
    },
    {
     "name": "stderr",
     "output_type": "stream",
     "text": [
      "Epoch:  10%|█         | 5/50 [00:09<01:25,  1.89s/it]"
     ]
    },
    {
     "name": "stdout",
     "output_type": "stream",
     "text": [
      "epoch: 4, test val_loss: 0.547539\n",
      "epoch: 4, train loss: 23.8834, lr: 0.000500, spent: 9.5 secs\n"
     ]
    },
    {
     "name": "stderr",
     "output_type": "stream",
     "text": [
      "Epoch:  12%|█▏        | 6/50 [00:11<01:23,  1.89s/it]"
     ]
    },
    {
     "name": "stdout",
     "output_type": "stream",
     "text": [
      "epoch: 5, test val_loss: 0.532695\n",
      "epoch: 5, train loss: 23.2507, lr: 0.000500, spent: 11.3 secs\n"
     ]
    },
    {
     "name": "stderr",
     "output_type": "stream",
     "text": [
      "Epoch:  14%|█▍        | 7/50 [00:13<01:21,  1.89s/it]"
     ]
    },
    {
     "name": "stdout",
     "output_type": "stream",
     "text": [
      "epoch: 6, test val_loss: 0.527855\n",
      "epoch: 6, train loss: 22.6370, lr: 0.000500, spent: 13.2 secs\n"
     ]
    },
    {
     "name": "stderr",
     "output_type": "stream",
     "text": [
      "Epoch:  16%|█▌        | 8/50 [00:15<01:19,  1.89s/it]"
     ]
    },
    {
     "name": "stdout",
     "output_type": "stream",
     "text": [
      "epoch: 7, test val_loss: 0.516418\n",
      "epoch: 7, train loss: 22.0136, lr: 0.000500, spent: 15.1 secs\n"
     ]
    },
    {
     "name": "stderr",
     "output_type": "stream",
     "text": [
      "Epoch:  18%|█▊        | 9/50 [00:17<01:17,  1.89s/it]"
     ]
    },
    {
     "name": "stdout",
     "output_type": "stream",
     "text": [
      "epoch: 8, test val_loss: 0.502406\n",
      "epoch: 8, train loss: 21.5264, lr: 0.000500, spent: 17.0 secs\n"
     ]
    },
    {
     "name": "stderr",
     "output_type": "stream",
     "text": [
      "Epoch:  20%|██        | 10/50 [00:18<01:15,  1.89s/it]"
     ]
    },
    {
     "name": "stdout",
     "output_type": "stream",
     "text": [
      "epoch: 9, test val_loss: 0.492649\n",
      "epoch: 9, train loss: 21.0873, lr: 0.000500, spent: 18.9 secs\n"
     ]
    },
    {
     "name": "stderr",
     "output_type": "stream",
     "text": [
      "Epoch:  22%|██▏       | 11/50 [00:20<01:13,  1.89s/it]"
     ]
    },
    {
     "name": "stdout",
     "output_type": "stream",
     "text": [
      "epoch: 10, test val_loss: 0.509941\n",
      "EarlyStopping counter: 1 out of 5\n",
      "epoch: 10, train loss: 20.6376, lr: 0.000500, spent: 20.8 secs\n"
     ]
    },
    {
     "name": "stderr",
     "output_type": "stream",
     "text": [
      "Epoch:  24%|██▍       | 12/50 [00:22<01:11,  1.88s/it]"
     ]
    },
    {
     "name": "stdout",
     "output_type": "stream",
     "text": [
      "epoch: 11, test val_loss: 0.494160\n",
      "EarlyStopping counter: 2 out of 5\n",
      "epoch: 11, train loss: 20.1270, lr: 0.000500, spent: 22.6 secs\n"
     ]
    },
    {
     "name": "stderr",
     "output_type": "stream",
     "text": [
      "Epoch:  26%|██▌       | 13/50 [00:24<01:09,  1.88s/it]"
     ]
    },
    {
     "name": "stdout",
     "output_type": "stream",
     "text": [
      "epoch: 12, test val_loss: 0.466230\n",
      "epoch: 12, train loss: 19.6440, lr: 0.000500, spent: 24.5 secs\n"
     ]
    },
    {
     "name": "stderr",
     "output_type": "stream",
     "text": [
      "Epoch:  28%|██▊       | 14/50 [00:26<01:07,  1.88s/it]"
     ]
    },
    {
     "name": "stdout",
     "output_type": "stream",
     "text": [
      "epoch: 13, test val_loss: 0.471818\n",
      "EarlyStopping counter: 1 out of 5\n",
      "epoch: 13, train loss: 19.3472, lr: 0.000500, spent: 26.4 secs\n"
     ]
    },
    {
     "name": "stderr",
     "output_type": "stream",
     "text": [
      "Epoch:  30%|███       | 15/50 [00:28<01:05,  1.88s/it]"
     ]
    },
    {
     "name": "stdout",
     "output_type": "stream",
     "text": [
      "epoch: 14, test val_loss: 0.451962\n",
      "epoch: 14, train loss: 18.7769, lr: 0.000500, spent: 28.3 secs\n"
     ]
    },
    {
     "name": "stderr",
     "output_type": "stream",
     "text": [
      "Epoch:  32%|███▏      | 16/50 [00:30<01:03,  1.87s/it]"
     ]
    },
    {
     "name": "stdout",
     "output_type": "stream",
     "text": [
      "epoch: 15, test val_loss: 0.452024\n",
      "EarlyStopping counter: 1 out of 5\n",
      "epoch: 15, train loss: 18.5968, lr: 0.000500, spent: 30.1 secs\n"
     ]
    },
    {
     "name": "stderr",
     "output_type": "stream",
     "text": [
      "Epoch:  34%|███▍      | 17/50 [00:32<01:01,  1.87s/it]"
     ]
    },
    {
     "name": "stdout",
     "output_type": "stream",
     "text": [
      "epoch: 16, test val_loss: 0.442642\n",
      "epoch: 16, train loss: 18.0511, lr: 0.000500, spent: 32.0 secs\n"
     ]
    },
    {
     "name": "stderr",
     "output_type": "stream",
     "text": [
      "Epoch:  36%|███▌      | 18/50 [00:33<01:00,  1.88s/it]"
     ]
    },
    {
     "name": "stdout",
     "output_type": "stream",
     "text": [
      "epoch: 17, test val_loss: 0.432326\n",
      "epoch: 17, train loss: 17.6688, lr: 0.000500, spent: 33.9 secs\n"
     ]
    },
    {
     "name": "stderr",
     "output_type": "stream",
     "text": [
      "Epoch:  38%|███▊      | 19/50 [00:35<00:58,  1.88s/it]"
     ]
    },
    {
     "name": "stdout",
     "output_type": "stream",
     "text": [
      "epoch: 18, test val_loss: 0.420896\n",
      "epoch: 18, train loss: 17.4255, lr: 0.000500, spent: 35.8 secs\n"
     ]
    },
    {
     "name": "stderr",
     "output_type": "stream",
     "text": [
      "Epoch:  40%|████      | 20/50 [00:37<00:56,  1.88s/it]"
     ]
    },
    {
     "name": "stdout",
     "output_type": "stream",
     "text": [
      "epoch: 19, test val_loss: 0.413023\n",
      "epoch: 19, train loss: 16.9429, lr: 0.000500, spent: 37.7 secs\n"
     ]
    },
    {
     "name": "stderr",
     "output_type": "stream",
     "text": [
      "Epoch:  42%|████▏     | 21/50 [00:39<00:53,  1.86s/it]"
     ]
    },
    {
     "name": "stdout",
     "output_type": "stream",
     "text": [
      "epoch: 20, test val_loss: 0.444116\n",
      "EarlyStopping counter: 1 out of 5\n",
      "epoch: 20, train loss: 16.7039, lr: 0.000500, spent: 39.5 secs\n"
     ]
    },
    {
     "name": "stderr",
     "output_type": "stream",
     "text": [
      "Epoch:  44%|████▍     | 22/50 [00:41<00:54,  1.94s/it]"
     ]
    },
    {
     "name": "stdout",
     "output_type": "stream",
     "text": [
      "epoch: 21, test val_loss: 0.399216\n",
      "epoch: 21, train loss: 16.3403, lr: 0.000500, spent: 41.6 secs\n"
     ]
    },
    {
     "name": "stderr",
     "output_type": "stream",
     "text": [
      "Epoch:  46%|████▌     | 23/50 [00:43<00:52,  1.93s/it]"
     ]
    },
    {
     "name": "stdout",
     "output_type": "stream",
     "text": [
      "epoch: 22, test val_loss: 0.396688\n",
      "epoch: 22, train loss: 15.9652, lr: 0.000500, spent: 43.5 secs\n"
     ]
    },
    {
     "name": "stderr",
     "output_type": "stream",
     "text": [
      "Epoch:  48%|████▊     | 24/50 [00:45<00:49,  1.92s/it]"
     ]
    },
    {
     "name": "stdout",
     "output_type": "stream",
     "text": [
      "epoch: 23, test val_loss: 0.385634\n",
      "epoch: 23, train loss: 15.6581, lr: 0.000500, spent: 45.4 secs\n"
     ]
    },
    {
     "name": "stderr",
     "output_type": "stream",
     "text": [
      "Epoch:  50%|█████     | 25/50 [00:47<00:47,  1.91s/it]"
     ]
    },
    {
     "name": "stdout",
     "output_type": "stream",
     "text": [
      "epoch: 24, test val_loss: 0.388620\n",
      "EarlyStopping counter: 1 out of 5\n",
      "epoch: 24, train loss: 15.2315, lr: 0.000500, spent: 47.3 secs\n"
     ]
    },
    {
     "name": "stderr",
     "output_type": "stream",
     "text": [
      "Epoch:  52%|█████▏    | 26/50 [00:49<00:45,  1.89s/it]"
     ]
    },
    {
     "name": "stdout",
     "output_type": "stream",
     "text": [
      "epoch: 25, test val_loss: 0.393754\n",
      "EarlyStopping counter: 2 out of 5\n",
      "epoch: 25, train loss: 15.0703, lr: 0.000500, spent: 49.1 secs\n"
     ]
    },
    {
     "name": "stderr",
     "output_type": "stream",
     "text": [
      "Epoch:  54%|█████▍    | 27/50 [00:51<00:43,  1.90s/it]"
     ]
    },
    {
     "name": "stdout",
     "output_type": "stream",
     "text": [
      "epoch: 26, test val_loss: 0.444119\n",
      "EarlyStopping counter: 3 out of 5\n",
      "epoch: 26, train loss: 14.8071, lr: 0.000500, spent: 51.1 secs\n"
     ]
    },
    {
     "name": "stderr",
     "output_type": "stream",
     "text": [
      "Epoch:  56%|█████▌    | 28/50 [00:52<00:41,  1.89s/it]"
     ]
    },
    {
     "name": "stdout",
     "output_type": "stream",
     "text": [
      "epoch: 27, test val_loss: 0.476857\n",
      "EarlyStopping counter: 4 out of 5\n",
      "epoch: 27, train loss: 14.6150, lr: 0.000500, spent: 52.9 secs\n"
     ]
    },
    {
     "name": "stderr",
     "output_type": "stream",
     "text": [
      "Epoch:  58%|█████▊    | 29/50 [00:54<00:40,  1.91s/it]"
     ]
    },
    {
     "name": "stdout",
     "output_type": "stream",
     "text": [
      "epoch: 28, test val_loss: 0.358826\n",
      "epoch: 28, train loss: 14.5336, lr: 0.000500, spent: 54.9 secs\n"
     ]
    },
    {
     "name": "stderr",
     "output_type": "stream",
     "text": [
      "Epoch:  60%|██████    | 30/50 [00:56<00:37,  1.89s/it]"
     ]
    },
    {
     "name": "stdout",
     "output_type": "stream",
     "text": [
      "epoch: 29, test val_loss: 0.424788\n",
      "EarlyStopping counter: 1 out of 5\n",
      "epoch: 29, train loss: 14.0116, lr: 0.000500, spent: 56.7 secs\n"
     ]
    },
    {
     "name": "stderr",
     "output_type": "stream",
     "text": [
      "Epoch:  62%|██████▏   | 31/50 [00:58<00:35,  1.89s/it]"
     ]
    },
    {
     "name": "stdout",
     "output_type": "stream",
     "text": [
      "epoch: 30, test val_loss: 0.403569\n",
      "EarlyStopping counter: 2 out of 5\n",
      "epoch: 30, train loss: 13.7960, lr: 0.000500, spent: 58.6 secs\n"
     ]
    },
    {
     "name": "stderr",
     "output_type": "stream",
     "text": [
      "Epoch:  64%|██████▍   | 32/50 [01:00<00:34,  1.90s/it]"
     ]
    },
    {
     "name": "stdout",
     "output_type": "stream",
     "text": [
      "epoch: 31, test val_loss: 0.346627\n",
      "epoch: 31, train loss: 13.4912, lr: 0.000500, spent: 60.5 secs\n"
     ]
    },
    {
     "name": "stderr",
     "output_type": "stream",
     "text": [
      "Epoch:  66%|██████▌   | 33/50 [01:02<00:31,  1.87s/it]"
     ]
    },
    {
     "name": "stdout",
     "output_type": "stream",
     "text": [
      "epoch: 32, test val_loss: 0.543662\n",
      "EarlyStopping counter: 1 out of 5\n",
      "epoch: 32, train loss: 13.5180, lr: 0.000500, spent: 62.3 secs\n"
     ]
    },
    {
     "name": "stderr",
     "output_type": "stream",
     "text": [
      "Epoch:  68%|██████▊   | 34/50 [01:04<00:29,  1.87s/it]"
     ]
    },
    {
     "name": "stdout",
     "output_type": "stream",
     "text": [
      "epoch: 33, test val_loss: 0.361508\n",
      "EarlyStopping counter: 2 out of 5\n",
      "epoch: 33, train loss: 13.8172, lr: 0.000500, spent: 64.2 secs\n"
     ]
    },
    {
     "name": "stderr",
     "output_type": "stream",
     "text": [
      "Epoch:  70%|███████   | 35/50 [01:06<00:28,  1.88s/it]"
     ]
    },
    {
     "name": "stdout",
     "output_type": "stream",
     "text": [
      "epoch: 34, test val_loss: 0.327715\n",
      "epoch: 34, train loss: 13.0954, lr: 0.000500, spent: 66.1 secs\n"
     ]
    },
    {
     "name": "stderr",
     "output_type": "stream",
     "text": [
      "Epoch:  72%|███████▏  | 36/50 [01:07<00:26,  1.88s/it]"
     ]
    },
    {
     "name": "stdout",
     "output_type": "stream",
     "text": [
      "epoch: 35, test val_loss: 0.323073\n",
      "epoch: 35, train loss: 12.3245, lr: 0.000500, spent: 68.0 secs\n"
     ]
    },
    {
     "name": "stderr",
     "output_type": "stream",
     "text": [
      "Epoch:  74%|███████▍  | 37/50 [01:09<00:24,  1.90s/it]"
     ]
    },
    {
     "name": "stdout",
     "output_type": "stream",
     "text": [
      "epoch: 36, test val_loss: 0.319432\n",
      "epoch: 36, train loss: 12.7522, lr: 0.000500, spent: 69.9 secs\n"
     ]
    },
    {
     "name": "stderr",
     "output_type": "stream",
     "text": [
      "Epoch:  76%|███████▌  | 38/50 [01:11<00:22,  1.89s/it]"
     ]
    },
    {
     "name": "stdout",
     "output_type": "stream",
     "text": [
      "epoch: 37, test val_loss: 0.322309\n",
      "EarlyStopping counter: 1 out of 5\n",
      "epoch: 37, train loss: 12.1229, lr: 0.000500, spent: 71.8 secs\n"
     ]
    },
    {
     "name": "stderr",
     "output_type": "stream",
     "text": [
      "Epoch:  78%|███████▊  | 39/50 [01:13<00:20,  1.89s/it]"
     ]
    },
    {
     "name": "stdout",
     "output_type": "stream",
     "text": [
      "epoch: 38, test val_loss: 0.371767\n",
      "EarlyStopping counter: 2 out of 5\n",
      "epoch: 38, train loss: 12.1535, lr: 0.000500, spent: 73.7 secs\n"
     ]
    },
    {
     "name": "stderr",
     "output_type": "stream",
     "text": [
      "Epoch:  80%|████████  | 40/50 [01:15<00:18,  1.88s/it]"
     ]
    },
    {
     "name": "stdout",
     "output_type": "stream",
     "text": [
      "epoch: 39, test val_loss: 0.431764\n",
      "EarlyStopping counter: 3 out of 5\n",
      "epoch: 39, train loss: 11.8284, lr: 0.000500, spent: 75.5 secs\n"
     ]
    },
    {
     "name": "stderr",
     "output_type": "stream",
     "text": [
      "Epoch:  82%|████████▏ | 41/50 [01:17<00:16,  1.88s/it]"
     ]
    },
    {
     "name": "stdout",
     "output_type": "stream",
     "text": [
      "epoch: 40, test val_loss: 0.459258\n",
      "EarlyStopping counter: 4 out of 5\n",
      "epoch: 40, train loss: 11.8746, lr: 0.000500, spent: 77.4 secs\n"
     ]
    },
    {
     "name": "stderr",
     "output_type": "stream",
     "text": [
      "Epoch:  82%|████████▏ | 41/50 [01:19<00:17,  1.93s/it]\n",
      "2024-03-28 02:38:38.826 | INFO     | trainer:train:137 - load best at last from ./checkpoint\n",
      "2024-03-28 02:38:38.847 | INFO     | trainer:save_model:248 - saving model checkpoint to ./checkpoint\n",
      "2024-03-28 02:38:38.980 | INFO     | trainer:train:142 - training complete, cost 79.4 secs.\n"
     ]
    },
    {
     "name": "stdout",
     "output_type": "stream",
     "text": [
      "epoch: 41, test val_loss: 0.333827\n",
      "EarlyStopping counter: 5 out of 5\n",
      "early stopped\n"
     ]
    },
    {
     "name": "stderr",
     "output_type": "stream",
     "text": [
      "Epoch:   2%|▏         | 1/50 [00:01<01:33,  1.91s/it]"
     ]
    },
    {
     "name": "stdout",
     "output_type": "stream",
     "text": [
      "epoch: 0, test val_loss: 0.684390\n",
      "epoch: 0, train loss: 30.6037, lr: 0.000200, spent: 1.9 secs\n"
     ]
    },
    {
     "name": "stderr",
     "output_type": "stream",
     "text": [
      "Epoch:   4%|▍         | 2/50 [00:03<01:29,  1.86s/it]"
     ]
    },
    {
     "name": "stdout",
     "output_type": "stream",
     "text": [
      "epoch: 1, test val_loss: 0.659168\n",
      "epoch: 1, train loss: 28.7295, lr: 0.000200, spent: 3.7 secs\n"
     ]
    },
    {
     "name": "stderr",
     "output_type": "stream",
     "text": [
      "Epoch:   6%|▌         | 3/50 [00:05<01:28,  1.88s/it]"
     ]
    },
    {
     "name": "stdout",
     "output_type": "stream",
     "text": [
      "epoch: 2, test val_loss: 0.641803\n",
      "epoch: 2, train loss: 27.8022, lr: 0.000200, spent: 5.6 secs\n"
     ]
    },
    {
     "name": "stderr",
     "output_type": "stream",
     "text": [
      "Epoch:   8%|▊         | 4/50 [00:07<01:26,  1.88s/it]"
     ]
    },
    {
     "name": "stdout",
     "output_type": "stream",
     "text": [
      "epoch: 3, test val_loss: 0.627251\n",
      "epoch: 3, train loss: 27.1035, lr: 0.000200, spent: 7.5 secs\n"
     ]
    },
    {
     "name": "stderr",
     "output_type": "stream",
     "text": [
      "Epoch:  10%|█         | 5/50 [00:09<01:24,  1.88s/it]"
     ]
    },
    {
     "name": "stdout",
     "output_type": "stream",
     "text": [
      "epoch: 4, test val_loss: 0.614963\n",
      "epoch: 4, train loss: 26.5598, lr: 0.000200, spent: 9.4 secs\n"
     ]
    },
    {
     "name": "stderr",
     "output_type": "stream",
     "text": [
      "Epoch:  12%|█▏        | 6/50 [00:11<01:23,  1.89s/it]"
     ]
    },
    {
     "name": "stdout",
     "output_type": "stream",
     "text": [
      "epoch: 5, test val_loss: 0.603745\n",
      "epoch: 5, train loss: 26.0565, lr: 0.000200, spent: 11.3 secs\n"
     ]
    },
    {
     "name": "stderr",
     "output_type": "stream",
     "text": [
      "Epoch:  14%|█▍        | 7/50 [00:13<01:21,  1.89s/it]"
     ]
    },
    {
     "name": "stdout",
     "output_type": "stream",
     "text": [
      "epoch: 6, test val_loss: 0.593765\n",
      "epoch: 6, train loss: 25.5879, lr: 0.000200, spent: 13.2 secs\n"
     ]
    },
    {
     "name": "stderr",
     "output_type": "stream",
     "text": [
      "Epoch:  16%|█▌        | 8/50 [00:15<01:20,  1.92s/it]"
     ]
    },
    {
     "name": "stdout",
     "output_type": "stream",
     "text": [
      "epoch: 7, test val_loss: 0.583963\n",
      "epoch: 7, train loss: 25.1539, lr: 0.000200, spent: 15.2 secs\n"
     ]
    },
    {
     "name": "stderr",
     "output_type": "stream",
     "text": [
      "Epoch:  18%|█▊        | 9/50 [00:17<01:18,  1.91s/it]"
     ]
    },
    {
     "name": "stdout",
     "output_type": "stream",
     "text": [
      "epoch: 8, test val_loss: 0.575164\n",
      "epoch: 8, train loss: 24.8026, lr: 0.000200, spent: 17.1 secs\n"
     ]
    },
    {
     "name": "stderr",
     "output_type": "stream",
     "text": [
      "Epoch:  20%|██        | 10/50 [00:18<01:16,  1.91s/it]"
     ]
    },
    {
     "name": "stdout",
     "output_type": "stream",
     "text": [
      "epoch: 9, test val_loss: 0.567107\n",
      "epoch: 9, train loss: 24.4270, lr: 0.000200, spent: 19.0 secs\n"
     ]
    },
    {
     "name": "stderr",
     "output_type": "stream",
     "text": [
      "Epoch:  22%|██▏       | 11/50 [00:20<01:14,  1.90s/it]"
     ]
    },
    {
     "name": "stdout",
     "output_type": "stream",
     "text": [
      "epoch: 10, test val_loss: 0.559527\n",
      "epoch: 10, train loss: 24.0063, lr: 0.000200, spent: 20.9 secs\n"
     ]
    },
    {
     "name": "stderr",
     "output_type": "stream",
     "text": [
      "Epoch:  24%|██▍       | 12/50 [00:22<01:12,  1.90s/it]"
     ]
    },
    {
     "name": "stdout",
     "output_type": "stream",
     "text": [
      "epoch: 11, test val_loss: 0.552242\n",
      "epoch: 11, train loss: 23.7121, lr: 0.000200, spent: 22.8 secs\n"
     ]
    },
    {
     "name": "stderr",
     "output_type": "stream",
     "text": [
      "Epoch:  26%|██▌       | 13/50 [00:24<01:10,  1.90s/it]"
     ]
    },
    {
     "name": "stdout",
     "output_type": "stream",
     "text": [
      "epoch: 12, test val_loss: 0.546199\n",
      "epoch: 12, train loss: 23.4682, lr: 0.000200, spent: 24.7 secs\n"
     ]
    },
    {
     "name": "stderr",
     "output_type": "stream",
     "text": [
      "Epoch:  28%|██▊       | 14/50 [00:26<01:08,  1.90s/it]"
     ]
    },
    {
     "name": "stdout",
     "output_type": "stream",
     "text": [
      "epoch: 13, test val_loss: 0.539910\n",
      "epoch: 13, train loss: 23.1469, lr: 0.000200, spent: 26.6 secs\n"
     ]
    },
    {
     "name": "stderr",
     "output_type": "stream",
     "text": [
      "Epoch:  30%|███       | 15/50 [00:28<01:06,  1.89s/it]"
     ]
    },
    {
     "name": "stdout",
     "output_type": "stream",
     "text": [
      "epoch: 14, test val_loss: 0.533052\n",
      "epoch: 14, train loss: 22.7479, lr: 0.000200, spent: 28.4 secs\n"
     ]
    },
    {
     "name": "stderr",
     "output_type": "stream",
     "text": [
      "Epoch:  32%|███▏      | 16/50 [00:30<01:04,  1.90s/it]"
     ]
    },
    {
     "name": "stdout",
     "output_type": "stream",
     "text": [
      "epoch: 15, test val_loss: 0.526425\n",
      "epoch: 15, train loss: 22.5842, lr: 0.000200, spent: 30.3 secs\n"
     ]
    },
    {
     "name": "stderr",
     "output_type": "stream",
     "text": [
      "Epoch:  34%|███▍      | 17/50 [00:32<01:03,  1.92s/it]"
     ]
    },
    {
     "name": "stdout",
     "output_type": "stream",
     "text": [
      "epoch: 16, test val_loss: 0.521497\n",
      "epoch: 16, train loss: 22.2864, lr: 0.000200, spent: 32.3 secs\n"
     ]
    },
    {
     "name": "stderr",
     "output_type": "stream",
     "text": [
      "Epoch:  36%|███▌      | 18/50 [00:34<01:01,  1.91s/it]"
     ]
    },
    {
     "name": "stdout",
     "output_type": "stream",
     "text": [
      "epoch: 17, test val_loss: 0.516566\n",
      "epoch: 17, train loss: 22.0773, lr: 0.000200, spent: 34.2 secs\n"
     ]
    },
    {
     "name": "stderr",
     "output_type": "stream",
     "text": [
      "Epoch:  38%|███▊      | 19/50 [00:36<00:59,  1.91s/it]"
     ]
    },
    {
     "name": "stdout",
     "output_type": "stream",
     "text": [
      "epoch: 18, test val_loss: 0.510652\n",
      "epoch: 18, train loss: 21.8730, lr: 0.000200, spent: 36.1 secs\n"
     ]
    },
    {
     "name": "stderr",
     "output_type": "stream",
     "text": [
      "Epoch:  40%|████      | 20/50 [00:37<00:57,  1.90s/it]"
     ]
    },
    {
     "name": "stdout",
     "output_type": "stream",
     "text": [
      "epoch: 19, test val_loss: 0.505367\n",
      "epoch: 19, train loss: 21.6217, lr: 0.000200, spent: 38.0 secs\n"
     ]
    },
    {
     "name": "stderr",
     "output_type": "stream",
     "text": [
      "Epoch:  42%|████▏     | 21/50 [00:39<00:54,  1.89s/it]"
     ]
    },
    {
     "name": "stdout",
     "output_type": "stream",
     "text": [
      "epoch: 20, test val_loss: 0.501123\n",
      "epoch: 20, train loss: 21.4221, lr: 0.000200, spent: 39.9 secs\n"
     ]
    },
    {
     "name": "stderr",
     "output_type": "stream",
     "text": [
      "Epoch:  44%|████▍     | 22/50 [00:41<00:52,  1.89s/it]"
     ]
    },
    {
     "name": "stdout",
     "output_type": "stream",
     "text": [
      "epoch: 21, test val_loss: 0.501623\n",
      "EarlyStopping counter: 1 out of 5\n",
      "epoch: 21, train loss: 21.3536, lr: 0.000200, spent: 41.7 secs\n"
     ]
    },
    {
     "name": "stderr",
     "output_type": "stream",
     "text": [
      "Epoch:  46%|████▌     | 23/50 [00:43<00:50,  1.88s/it]"
     ]
    },
    {
     "name": "stdout",
     "output_type": "stream",
     "text": [
      "epoch: 22, test val_loss: 0.493499\n",
      "epoch: 22, train loss: 21.0359, lr: 0.000200, spent: 43.6 secs\n"
     ]
    },
    {
     "name": "stderr",
     "output_type": "stream",
     "text": [
      "Epoch:  48%|████▊     | 24/50 [00:45<00:49,  1.88s/it]"
     ]
    },
    {
     "name": "stdout",
     "output_type": "stream",
     "text": [
      "epoch: 23, test val_loss: 0.488882\n",
      "epoch: 23, train loss: 20.8929, lr: 0.000200, spent: 45.5 secs\n"
     ]
    },
    {
     "name": "stderr",
     "output_type": "stream",
     "text": [
      "Epoch:  50%|█████     | 25/50 [00:47<00:47,  1.89s/it]"
     ]
    },
    {
     "name": "stdout",
     "output_type": "stream",
     "text": [
      "epoch: 24, test val_loss: 0.484206\n",
      "epoch: 24, train loss: 20.6616, lr: 0.000200, spent: 47.4 secs\n"
     ]
    },
    {
     "name": "stderr",
     "output_type": "stream",
     "text": [
      "Epoch:  52%|█████▏    | 26/50 [00:49<00:45,  1.88s/it]"
     ]
    },
    {
     "name": "stdout",
     "output_type": "stream",
     "text": [
      "epoch: 25, test val_loss: 0.479531\n",
      "epoch: 25, train loss: 20.3632, lr: 0.000200, spent: 49.3 secs\n"
     ]
    },
    {
     "name": "stderr",
     "output_type": "stream",
     "text": [
      "Epoch:  54%|█████▍    | 27/50 [00:51<00:43,  1.89s/it]"
     ]
    },
    {
     "name": "stdout",
     "output_type": "stream",
     "text": [
      "epoch: 26, test val_loss: 0.474449\n",
      "epoch: 26, train loss: 20.2124, lr: 0.000200, spent: 51.2 secs\n"
     ]
    },
    {
     "name": "stderr",
     "output_type": "stream",
     "text": [
      "Epoch:  56%|█████▌    | 28/50 [00:53<00:41,  1.91s/it]"
     ]
    },
    {
     "name": "stdout",
     "output_type": "stream",
     "text": [
      "epoch: 27, test val_loss: 0.470427\n",
      "epoch: 27, train loss: 20.0826, lr: 0.000200, spent: 53.1 secs\n"
     ]
    },
    {
     "name": "stderr",
     "output_type": "stream",
     "text": [
      "Epoch:  58%|█████▊    | 29/50 [00:55<00:40,  1.92s/it]"
     ]
    },
    {
     "name": "stdout",
     "output_type": "stream",
     "text": [
      "epoch: 28, test val_loss: 0.467424\n",
      "epoch: 28, train loss: 19.9225, lr: 0.000200, spent: 55.1 secs\n"
     ]
    },
    {
     "name": "stderr",
     "output_type": "stream",
     "text": [
      "Epoch:  60%|██████    | 30/50 [00:56<00:38,  1.90s/it]"
     ]
    },
    {
     "name": "stdout",
     "output_type": "stream",
     "text": [
      "epoch: 29, test val_loss: 0.468128\n",
      "EarlyStopping counter: 1 out of 5\n",
      "epoch: 29, train loss: 19.6355, lr: 0.000200, spent: 56.9 secs\n"
     ]
    },
    {
     "name": "stderr",
     "output_type": "stream",
     "text": [
      "Epoch:  62%|██████▏   | 31/50 [00:58<00:36,  1.90s/it]"
     ]
    },
    {
     "name": "stdout",
     "output_type": "stream",
     "text": [
      "epoch: 30, test val_loss: 0.458922\n",
      "epoch: 30, train loss: 19.6507, lr: 0.000200, spent: 58.8 secs\n"
     ]
    },
    {
     "name": "stderr",
     "output_type": "stream",
     "text": [
      "Epoch:  64%|██████▍   | 32/50 [01:00<00:34,  1.90s/it]"
     ]
    },
    {
     "name": "stdout",
     "output_type": "stream",
     "text": [
      "epoch: 31, test val_loss: 0.457632\n",
      "epoch: 31, train loss: 19.2650, lr: 0.000200, spent: 60.7 secs\n"
     ]
    },
    {
     "name": "stderr",
     "output_type": "stream",
     "text": [
      "Epoch:  66%|██████▌   | 33/50 [01:02<00:32,  1.90s/it]"
     ]
    },
    {
     "name": "stdout",
     "output_type": "stream",
     "text": [
      "epoch: 32, test val_loss: 0.451154\n",
      "epoch: 32, train loss: 19.3207, lr: 0.000200, spent: 62.6 secs\n"
     ]
    },
    {
     "name": "stderr",
     "output_type": "stream",
     "text": [
      "Epoch:  68%|██████▊   | 34/50 [01:04<00:30,  1.89s/it]"
     ]
    },
    {
     "name": "stdout",
     "output_type": "stream",
     "text": [
      "epoch: 33, test val_loss: 0.448524\n",
      "epoch: 33, train loss: 18.9994, lr: 0.000200, spent: 64.5 secs\n"
     ]
    },
    {
     "name": "stderr",
     "output_type": "stream",
     "text": [
      "Epoch:  70%|███████   | 35/50 [01:06<00:28,  1.87s/it]"
     ]
    },
    {
     "name": "stdout",
     "output_type": "stream",
     "text": [
      "epoch: 34, test val_loss: 0.444409\n",
      "epoch: 34, train loss: 18.9045, lr: 0.000200, spent: 66.3 secs\n"
     ]
    },
    {
     "name": "stderr",
     "output_type": "stream",
     "text": [
      "Epoch:  72%|███████▏  | 36/50 [01:08<00:26,  1.88s/it]"
     ]
    },
    {
     "name": "stdout",
     "output_type": "stream",
     "text": [
      "epoch: 35, test val_loss: 0.443616\n",
      "epoch: 35, train loss: 18.7471, lr: 0.000200, spent: 68.2 secs\n"
     ]
    },
    {
     "name": "stderr",
     "output_type": "stream",
     "text": [
      "Epoch:  74%|███████▍  | 37/50 [01:10<00:24,  1.89s/it]"
     ]
    },
    {
     "name": "stdout",
     "output_type": "stream",
     "text": [
      "epoch: 36, test val_loss: 0.436570\n",
      "epoch: 36, train loss: 18.5352, lr: 0.000200, spent: 70.1 secs\n"
     ]
    },
    {
     "name": "stderr",
     "output_type": "stream",
     "text": [
      "Epoch:  76%|███████▌  | 38/50 [01:11<00:22,  1.88s/it]"
     ]
    },
    {
     "name": "stdout",
     "output_type": "stream",
     "text": [
      "epoch: 37, test val_loss: 0.439311\n",
      "EarlyStopping counter: 1 out of 5\n",
      "epoch: 37, train loss: 18.4725, lr: 0.000200, spent: 72.0 secs\n"
     ]
    },
    {
     "name": "stderr",
     "output_type": "stream",
     "text": [
      "Epoch:  78%|███████▊  | 39/50 [01:13<00:20,  1.90s/it]"
     ]
    },
    {
     "name": "stdout",
     "output_type": "stream",
     "text": [
      "epoch: 38, test val_loss: 0.430156\n",
      "epoch: 38, train loss: 18.1508, lr: 0.000200, spent: 73.9 secs\n"
     ]
    },
    {
     "name": "stderr",
     "output_type": "stream",
     "text": [
      "Epoch:  80%|████████  | 40/50 [01:15<00:19,  1.90s/it]"
     ]
    },
    {
     "name": "stdout",
     "output_type": "stream",
     "text": [
      "epoch: 39, test val_loss: 0.427356\n",
      "epoch: 39, train loss: 18.1780, lr: 0.000200, spent: 75.8 secs\n"
     ]
    },
    {
     "name": "stderr",
     "output_type": "stream",
     "text": [
      "Epoch:  82%|████████▏ | 41/50 [01:17<00:16,  1.89s/it]"
     ]
    },
    {
     "name": "stdout",
     "output_type": "stream",
     "text": [
      "epoch: 40, test val_loss: 0.423344\n",
      "epoch: 40, train loss: 18.0026, lr: 0.000200, spent: 77.7 secs\n"
     ]
    },
    {
     "name": "stderr",
     "output_type": "stream",
     "text": [
      "Epoch:  84%|████████▍ | 42/50 [01:19<00:15,  1.88s/it]"
     ]
    },
    {
     "name": "stdout",
     "output_type": "stream",
     "text": [
      "epoch: 41, test val_loss: 0.419807\n",
      "epoch: 41, train loss: 17.8281, lr: 0.000200, spent: 79.6 secs\n"
     ]
    },
    {
     "name": "stderr",
     "output_type": "stream",
     "text": [
      "Epoch:  86%|████████▌ | 43/50 [01:21<00:13,  1.90s/it]"
     ]
    },
    {
     "name": "stdout",
     "output_type": "stream",
     "text": [
      "epoch: 42, test val_loss: 0.418239\n",
      "epoch: 42, train loss: 17.6327, lr: 0.000200, spent: 81.5 secs\n"
     ]
    },
    {
     "name": "stderr",
     "output_type": "stream",
     "text": [
      "Epoch:  88%|████████▊ | 44/50 [01:23<00:11,  1.91s/it]"
     ]
    },
    {
     "name": "stdout",
     "output_type": "stream",
     "text": [
      "epoch: 43, test val_loss: 0.414085\n",
      "epoch: 43, train loss: 17.6292, lr: 0.000200, spent: 83.4 secs\n"
     ]
    },
    {
     "name": "stderr",
     "output_type": "stream",
     "text": [
      "Epoch:  90%|█████████ | 45/50 [01:25<00:09,  1.90s/it]"
     ]
    },
    {
     "name": "stdout",
     "output_type": "stream",
     "text": [
      "epoch: 44, test val_loss: 0.409967\n",
      "epoch: 44, train loss: 17.3226, lr: 0.000200, spent: 85.3 secs\n"
     ]
    },
    {
     "name": "stderr",
     "output_type": "stream",
     "text": [
      "Epoch:  92%|█████████▏| 46/50 [01:27<00:07,  1.89s/it]"
     ]
    },
    {
     "name": "stdout",
     "output_type": "stream",
     "text": [
      "epoch: 45, test val_loss: 0.409896\n",
      "epoch: 45, train loss: 17.1650, lr: 0.000200, spent: 87.2 secs\n"
     ]
    },
    {
     "name": "stderr",
     "output_type": "stream",
     "text": [
      "Epoch:  94%|█████████▍| 47/50 [01:29<00:05,  1.89s/it]"
     ]
    },
    {
     "name": "stdout",
     "output_type": "stream",
     "text": [
      "epoch: 46, test val_loss: 0.403370\n",
      "epoch: 46, train loss: 17.0914, lr: 0.000200, spent: 89.1 secs\n"
     ]
    },
    {
     "name": "stderr",
     "output_type": "stream",
     "text": [
      "Epoch:  96%|█████████▌| 48/50 [01:30<00:03,  1.89s/it]"
     ]
    },
    {
     "name": "stdout",
     "output_type": "stream",
     "text": [
      "epoch: 47, test val_loss: 0.405102\n",
      "EarlyStopping counter: 1 out of 5\n",
      "epoch: 47, train loss: 16.7993, lr: 0.000200, spent: 91.0 secs\n"
     ]
    },
    {
     "name": "stderr",
     "output_type": "stream",
     "text": [
      "Epoch:  98%|█████████▊| 49/50 [01:32<00:01,  1.89s/it]"
     ]
    },
    {
     "name": "stdout",
     "output_type": "stream",
     "text": [
      "epoch: 48, test val_loss: 0.398962\n",
      "epoch: 48, train loss: 16.6395, lr: 0.000200, spent: 92.9 secs\n"
     ]
    },
    {
     "name": "stderr",
     "output_type": "stream",
     "text": [
      "Epoch: 100%|██████████| 50/50 [01:34<00:00,  1.89s/it]\n",
      "2024-03-28 02:40:14.011 | INFO     | trainer:train:137 - load best at last from ./checkpoint\n",
      "2024-03-28 02:40:14.032 | INFO     | trainer:save_model:248 - saving model checkpoint to ./checkpoint\n",
      "2024-03-28 02:40:14.161 | INFO     | trainer:train:142 - training complete, cost 94.9 secs.\n"
     ]
    },
    {
     "name": "stdout",
     "output_type": "stream",
     "text": [
      "epoch: 49, test val_loss: 0.400174\n",
      "EarlyStopping counter: 1 out of 5\n",
      "epoch: 49, train loss: 16.6944, lr: 0.000200, spent: 94.7 secs\n"
     ]
    },
    {
     "name": "stderr",
     "output_type": "stream",
     "text": [
      "Epoch:   2%|▏         | 1/50 [00:01<01:32,  1.88s/it]"
     ]
    },
    {
     "name": "stdout",
     "output_type": "stream",
     "text": [
      "epoch: 0, test val_loss: 0.684521\n",
      "epoch: 0, train loss: 29.5092, lr: 0.000100, spent: 1.9 secs\n"
     ]
    },
    {
     "name": "stderr",
     "output_type": "stream",
     "text": [
      "Epoch:   4%|▍         | 2/50 [00:03<01:28,  1.85s/it]"
     ]
    },
    {
     "name": "stdout",
     "output_type": "stream",
     "text": [
      "epoch: 1, test val_loss: 0.664112\n",
      "epoch: 1, train loss: 28.1732, lr: 0.000100, spent: 3.7 secs\n"
     ]
    },
    {
     "name": "stderr",
     "output_type": "stream",
     "text": [
      "Epoch:   6%|▌         | 3/50 [00:05<01:27,  1.87s/it]"
     ]
    },
    {
     "name": "stdout",
     "output_type": "stream",
     "text": [
      "epoch: 2, test val_loss: 0.650378\n",
      "epoch: 2, train loss: 27.4522, lr: 0.000100, spent: 5.6 secs\n"
     ]
    },
    {
     "name": "stderr",
     "output_type": "stream",
     "text": [
      "Epoch:   8%|▊         | 4/50 [00:07<01:26,  1.88s/it]"
     ]
    },
    {
     "name": "stdout",
     "output_type": "stream",
     "text": [
      "epoch: 3, test val_loss: 0.639027\n",
      "epoch: 3, train loss: 27.0193, lr: 0.000100, spent: 7.5 secs\n"
     ]
    },
    {
     "name": "stderr",
     "output_type": "stream",
     "text": [
      "Epoch:  10%|█         | 5/50 [00:09<01:24,  1.88s/it]"
     ]
    },
    {
     "name": "stdout",
     "output_type": "stream",
     "text": [
      "epoch: 4, test val_loss: 0.629453\n",
      "epoch: 4, train loss: 26.5632, lr: 0.000100, spent: 9.4 secs\n"
     ]
    },
    {
     "name": "stderr",
     "output_type": "stream",
     "text": [
      "Epoch:  12%|█▏        | 6/50 [00:11<01:23,  1.89s/it]"
     ]
    },
    {
     "name": "stdout",
     "output_type": "stream",
     "text": [
      "epoch: 5, test val_loss: 0.619660\n",
      "epoch: 5, train loss: 26.1160, lr: 0.000100, spent: 11.3 secs\n"
     ]
    },
    {
     "name": "stderr",
     "output_type": "stream",
     "text": [
      "Epoch:  14%|█▍        | 7/50 [00:13<01:21,  1.89s/it]"
     ]
    },
    {
     "name": "stdout",
     "output_type": "stream",
     "text": [
      "epoch: 6, test val_loss: 0.611454\n",
      "epoch: 6, train loss: 25.8010, lr: 0.000100, spent: 13.2 secs\n"
     ]
    },
    {
     "name": "stderr",
     "output_type": "stream",
     "text": [
      "Epoch:  16%|█▌        | 8/50 [00:15<01:19,  1.90s/it]"
     ]
    },
    {
     "name": "stdout",
     "output_type": "stream",
     "text": [
      "epoch: 7, test val_loss: 0.604855\n",
      "epoch: 7, train loss: 25.4576, lr: 0.000100, spent: 15.1 secs\n"
     ]
    },
    {
     "name": "stderr",
     "output_type": "stream",
     "text": [
      "Epoch:  18%|█▊        | 9/50 [00:16<01:17,  1.90s/it]"
     ]
    },
    {
     "name": "stdout",
     "output_type": "stream",
     "text": [
      "epoch: 8, test val_loss: 0.599598\n",
      "epoch: 8, train loss: 25.1776, lr: 0.000100, spent: 17.0 secs\n"
     ]
    },
    {
     "name": "stderr",
     "output_type": "stream",
     "text": [
      "Epoch:  20%|██        | 10/50 [00:18<01:15,  1.90s/it]"
     ]
    },
    {
     "name": "stdout",
     "output_type": "stream",
     "text": [
      "epoch: 9, test val_loss: 0.592628\n",
      "epoch: 9, train loss: 25.0870, lr: 0.000100, spent: 18.9 secs\n"
     ]
    },
    {
     "name": "stderr",
     "output_type": "stream",
     "text": [
      "Epoch:  22%|██▏       | 11/50 [00:20<01:13,  1.90s/it]"
     ]
    },
    {
     "name": "stdout",
     "output_type": "stream",
     "text": [
      "epoch: 10, test val_loss: 0.587271\n",
      "epoch: 10, train loss: 24.7768, lr: 0.000100, spent: 20.8 secs\n"
     ]
    },
    {
     "name": "stderr",
     "output_type": "stream",
     "text": [
      "Epoch:  24%|██▍       | 12/50 [00:22<01:12,  1.90s/it]"
     ]
    },
    {
     "name": "stdout",
     "output_type": "stream",
     "text": [
      "epoch: 11, test val_loss: 0.581479\n",
      "epoch: 11, train loss: 24.4272, lr: 0.000100, spent: 22.7 secs\n"
     ]
    },
    {
     "name": "stderr",
     "output_type": "stream",
     "text": [
      "Epoch:  26%|██▌       | 13/50 [00:24<01:10,  1.89s/it]"
     ]
    },
    {
     "name": "stdout",
     "output_type": "stream",
     "text": [
      "epoch: 12, test val_loss: 0.577483\n",
      "epoch: 12, train loss: 24.2504, lr: 0.000100, spent: 24.6 secs\n"
     ]
    },
    {
     "name": "stderr",
     "output_type": "stream",
     "text": [
      "Epoch:  28%|██▊       | 14/50 [00:26<01:08,  1.90s/it]"
     ]
    },
    {
     "name": "stdout",
     "output_type": "stream",
     "text": [
      "epoch: 13, test val_loss: 0.571104\n",
      "epoch: 13, train loss: 24.0219, lr: 0.000100, spent: 26.5 secs\n"
     ]
    },
    {
     "name": "stderr",
     "output_type": "stream",
     "text": [
      "Epoch:  30%|███       | 15/50 [00:28<01:06,  1.89s/it]"
     ]
    },
    {
     "name": "stdout",
     "output_type": "stream",
     "text": [
      "epoch: 14, test val_loss: 0.566074\n",
      "epoch: 14, train loss: 23.8969, lr: 0.000100, spent: 28.4 secs\n"
     ]
    },
    {
     "name": "stderr",
     "output_type": "stream",
     "text": [
      "Epoch:  32%|███▏      | 16/50 [00:30<01:04,  1.89s/it]"
     ]
    },
    {
     "name": "stdout",
     "output_type": "stream",
     "text": [
      "epoch: 15, test val_loss: 0.561275\n",
      "epoch: 15, train loss: 23.6842, lr: 0.000100, spent: 30.3 secs\n"
     ]
    },
    {
     "name": "stderr",
     "output_type": "stream",
     "text": [
      "Epoch:  34%|███▍      | 17/50 [00:32<01:02,  1.89s/it]"
     ]
    },
    {
     "name": "stdout",
     "output_type": "stream",
     "text": [
      "epoch: 16, test val_loss: 0.556282\n",
      "epoch: 16, train loss: 23.5256, lr: 0.000100, spent: 32.1 secs\n"
     ]
    },
    {
     "name": "stderr",
     "output_type": "stream",
     "text": [
      "Epoch:  36%|███▌      | 18/50 [00:34<01:00,  1.90s/it]"
     ]
    },
    {
     "name": "stdout",
     "output_type": "stream",
     "text": [
      "epoch: 17, test val_loss: 0.554083\n",
      "epoch: 17, train loss: 23.2197, lr: 0.000100, spent: 34.1 secs\n"
     ]
    },
    {
     "name": "stderr",
     "output_type": "stream",
     "text": [
      "Epoch:  38%|███▊      | 19/50 [00:35<00:58,  1.90s/it]"
     ]
    },
    {
     "name": "stdout",
     "output_type": "stream",
     "text": [
      "epoch: 18, test val_loss: 0.547643\n",
      "epoch: 18, train loss: 23.1203, lr: 0.000100, spent: 36.0 secs\n"
     ]
    },
    {
     "name": "stderr",
     "output_type": "stream",
     "text": [
      "Epoch:  40%|████      | 20/50 [00:37<00:56,  1.90s/it]"
     ]
    },
    {
     "name": "stdout",
     "output_type": "stream",
     "text": [
      "epoch: 19, test val_loss: 0.542739\n",
      "epoch: 19, train loss: 22.8468, lr: 0.000100, spent: 37.9 secs\n"
     ]
    },
    {
     "name": "stderr",
     "output_type": "stream",
     "text": [
      "Epoch:  42%|████▏     | 21/50 [00:39<00:54,  1.90s/it]"
     ]
    },
    {
     "name": "stdout",
     "output_type": "stream",
     "text": [
      "epoch: 20, test val_loss: 0.538179\n",
      "epoch: 20, train loss: 22.6618, lr: 0.000100, spent: 39.7 secs\n"
     ]
    },
    {
     "name": "stderr",
     "output_type": "stream",
     "text": [
      "Epoch:  44%|████▍     | 22/50 [00:41<00:53,  1.90s/it]"
     ]
    },
    {
     "name": "stdout",
     "output_type": "stream",
     "text": [
      "epoch: 21, test val_loss: 0.532296\n",
      "epoch: 21, train loss: 22.4936, lr: 0.000100, spent: 41.6 secs\n"
     ]
    },
    {
     "name": "stderr",
     "output_type": "stream",
     "text": [
      "Epoch:  46%|████▌     | 23/50 [00:43<00:51,  1.89s/it]"
     ]
    },
    {
     "name": "stdout",
     "output_type": "stream",
     "text": [
      "epoch: 22, test val_loss: 0.528219\n",
      "epoch: 22, train loss: 22.3633, lr: 0.000100, spent: 43.5 secs\n"
     ]
    },
    {
     "name": "stderr",
     "output_type": "stream",
     "text": [
      "Epoch:  48%|████▊     | 24/50 [00:45<00:49,  1.89s/it]"
     ]
    },
    {
     "name": "stdout",
     "output_type": "stream",
     "text": [
      "epoch: 23, test val_loss: 0.523733\n",
      "epoch: 23, train loss: 22.0499, lr: 0.000100, spent: 45.4 secs\n"
     ]
    },
    {
     "name": "stderr",
     "output_type": "stream",
     "text": [
      "Epoch:  50%|█████     | 25/50 [00:47<00:47,  1.90s/it]"
     ]
    },
    {
     "name": "stdout",
     "output_type": "stream",
     "text": [
      "epoch: 24, test val_loss: 0.518802\n",
      "epoch: 24, train loss: 21.9191, lr: 0.000100, spent: 47.3 secs\n"
     ]
    },
    {
     "name": "stderr",
     "output_type": "stream",
     "text": [
      "Epoch:  52%|█████▏    | 26/50 [00:49<00:45,  1.90s/it]"
     ]
    },
    {
     "name": "stdout",
     "output_type": "stream",
     "text": [
      "epoch: 25, test val_loss: 0.514835\n",
      "epoch: 25, train loss: 21.7634, lr: 0.000100, spent: 49.2 secs\n"
     ]
    },
    {
     "name": "stderr",
     "output_type": "stream",
     "text": [
      "Epoch:  54%|█████▍    | 27/50 [00:51<00:43,  1.89s/it]"
     ]
    },
    {
     "name": "stdout",
     "output_type": "stream",
     "text": [
      "epoch: 26, test val_loss: 0.512505\n",
      "epoch: 26, train loss: 21.4964, lr: 0.000100, spent: 51.1 secs\n"
     ]
    },
    {
     "name": "stderr",
     "output_type": "stream",
     "text": [
      "Epoch:  56%|█████▌    | 28/50 [00:52<00:41,  1.89s/it]"
     ]
    },
    {
     "name": "stdout",
     "output_type": "stream",
     "text": [
      "epoch: 27, test val_loss: 0.508724\n",
      "epoch: 27, train loss: 21.4337, lr: 0.000100, spent: 53.0 secs\n"
     ]
    },
    {
     "name": "stderr",
     "output_type": "stream",
     "text": [
      "Epoch:  58%|█████▊    | 29/50 [00:54<00:39,  1.89s/it]"
     ]
    },
    {
     "name": "stdout",
     "output_type": "stream",
     "text": [
      "epoch: 28, test val_loss: 0.503336\n",
      "epoch: 28, train loss: 21.1647, lr: 0.000100, spent: 54.9 secs\n"
     ]
    },
    {
     "name": "stderr",
     "output_type": "stream",
     "text": [
      "Epoch:  60%|██████    | 30/50 [00:56<00:37,  1.90s/it]"
     ]
    },
    {
     "name": "stdout",
     "output_type": "stream",
     "text": [
      "epoch: 29, test val_loss: 0.500434\n",
      "epoch: 29, train loss: 21.2002, lr: 0.000100, spent: 56.8 secs\n"
     ]
    },
    {
     "name": "stderr",
     "output_type": "stream",
     "text": [
      "Epoch:  62%|██████▏   | 31/50 [00:58<00:36,  1.90s/it]"
     ]
    },
    {
     "name": "stdout",
     "output_type": "stream",
     "text": [
      "epoch: 30, test val_loss: 0.496378\n",
      "epoch: 30, train loss: 20.9544, lr: 0.000100, spent: 58.7 secs\n"
     ]
    },
    {
     "name": "stderr",
     "output_type": "stream",
     "text": [
      "Epoch:  64%|██████▍   | 32/50 [01:00<00:33,  1.89s/it]"
     ]
    },
    {
     "name": "stdout",
     "output_type": "stream",
     "text": [
      "epoch: 31, test val_loss: 0.501427\n",
      "EarlyStopping counter: 1 out of 5\n",
      "epoch: 31, train loss: 20.7957, lr: 0.000100, spent: 60.6 secs\n"
     ]
    },
    {
     "name": "stderr",
     "output_type": "stream",
     "text": [
      "Epoch:  66%|██████▌   | 33/50 [01:02<00:31,  1.88s/it]"
     ]
    },
    {
     "name": "stdout",
     "output_type": "stream",
     "text": [
      "epoch: 32, test val_loss: 0.497270\n",
      "EarlyStopping counter: 2 out of 5\n",
      "epoch: 32, train loss: 20.4976, lr: 0.000100, spent: 62.4 secs\n"
     ]
    },
    {
     "name": "stderr",
     "output_type": "stream",
     "text": [
      "Epoch:  68%|██████▊   | 34/50 [01:04<00:30,  1.88s/it]"
     ]
    },
    {
     "name": "stdout",
     "output_type": "stream",
     "text": [
      "epoch: 33, test val_loss: 0.486657\n",
      "epoch: 33, train loss: 20.3558, lr: 0.000100, spent: 64.3 secs\n"
     ]
    },
    {
     "name": "stderr",
     "output_type": "stream",
     "text": [
      "Epoch:  70%|███████   | 35/50 [01:06<00:28,  1.88s/it]"
     ]
    },
    {
     "name": "stdout",
     "output_type": "stream",
     "text": [
      "epoch: 34, test val_loss: 0.488107\n",
      "EarlyStopping counter: 1 out of 5\n",
      "epoch: 34, train loss: 20.2384, lr: 0.000100, spent: 66.2 secs\n"
     ]
    },
    {
     "name": "stderr",
     "output_type": "stream",
     "text": [
      "Epoch:  72%|███████▏  | 36/50 [01:08<00:26,  1.88s/it]"
     ]
    },
    {
     "name": "stdout",
     "output_type": "stream",
     "text": [
      "epoch: 35, test val_loss: 0.512302\n",
      "EarlyStopping counter: 2 out of 5\n",
      "epoch: 35, train loss: 20.1953, lr: 0.000100, spent: 68.1 secs\n"
     ]
    },
    {
     "name": "stderr",
     "output_type": "stream",
     "text": [
      "Epoch:  74%|███████▍  | 37/50 [01:09<00:24,  1.88s/it]"
     ]
    },
    {
     "name": "stdout",
     "output_type": "stream",
     "text": [
      "epoch: 36, test val_loss: 0.479562\n",
      "epoch: 36, train loss: 20.0593, lr: 0.000100, spent: 70.0 secs\n"
     ]
    },
    {
     "name": "stderr",
     "output_type": "stream",
     "text": [
      "Epoch:  76%|███████▌  | 38/50 [01:11<00:22,  1.88s/it]"
     ]
    },
    {
     "name": "stdout",
     "output_type": "stream",
     "text": [
      "epoch: 37, test val_loss: 0.481759\n",
      "EarlyStopping counter: 1 out of 5\n",
      "epoch: 37, train loss: 19.8915, lr: 0.000100, spent: 71.8 secs\n"
     ]
    },
    {
     "name": "stderr",
     "output_type": "stream",
     "text": [
      "Epoch:  78%|███████▊  | 39/50 [01:13<00:20,  1.88s/it]"
     ]
    },
    {
     "name": "stdout",
     "output_type": "stream",
     "text": [
      "epoch: 38, test val_loss: 0.472284\n",
      "epoch: 38, train loss: 19.7362, lr: 0.000100, spent: 73.7 secs\n"
     ]
    },
    {
     "name": "stderr",
     "output_type": "stream",
     "text": [
      "Epoch:  80%|████████  | 40/50 [01:15<00:18,  1.88s/it]"
     ]
    },
    {
     "name": "stdout",
     "output_type": "stream",
     "text": [
      "epoch: 39, test val_loss: 0.490624\n",
      "EarlyStopping counter: 1 out of 5\n",
      "epoch: 39, train loss: 19.6231, lr: 0.000100, spent: 75.6 secs\n"
     ]
    },
    {
     "name": "stderr",
     "output_type": "stream",
     "text": [
      "Epoch:  82%|████████▏ | 41/50 [01:17<00:16,  1.89s/it]"
     ]
    },
    {
     "name": "stdout",
     "output_type": "stream",
     "text": [
      "epoch: 40, test val_loss: 0.463678\n",
      "epoch: 40, train loss: 19.3966, lr: 0.000100, spent: 77.5 secs\n"
     ]
    },
    {
     "name": "stderr",
     "output_type": "stream",
     "text": [
      "Epoch:  84%|████████▍ | 42/50 [01:19<00:15,  1.88s/it]"
     ]
    },
    {
     "name": "stdout",
     "output_type": "stream",
     "text": [
      "epoch: 41, test val_loss: 0.492689\n",
      "EarlyStopping counter: 1 out of 5\n",
      "epoch: 41, train loss: 19.3632, lr: 0.000100, spent: 79.4 secs\n"
     ]
    },
    {
     "name": "stderr",
     "output_type": "stream",
     "text": [
      "Epoch:  86%|████████▌ | 43/50 [01:21<00:13,  1.88s/it]"
     ]
    },
    {
     "name": "stdout",
     "output_type": "stream",
     "text": [
      "epoch: 42, test val_loss: 0.458506\n",
      "epoch: 42, train loss: 19.3937, lr: 0.000100, spent: 81.3 secs\n"
     ]
    },
    {
     "name": "stderr",
     "output_type": "stream",
     "text": [
      "Epoch:  88%|████████▊ | 44/50 [01:23<00:11,  1.87s/it]"
     ]
    },
    {
     "name": "stdout",
     "output_type": "stream",
     "text": [
      "epoch: 43, test val_loss: 0.456833\n",
      "epoch: 43, train loss: 19.0506, lr: 0.000100, spent: 83.1 secs\n"
     ]
    },
    {
     "name": "stderr",
     "output_type": "stream",
     "text": [
      "Epoch:  90%|█████████ | 45/50 [01:24<00:09,  1.87s/it]"
     ]
    },
    {
     "name": "stdout",
     "output_type": "stream",
     "text": [
      "epoch: 44, test val_loss: 0.495139\n",
      "EarlyStopping counter: 1 out of 5\n",
      "epoch: 44, train loss: 19.0018, lr: 0.000100, spent: 85.0 secs\n"
     ]
    },
    {
     "name": "stderr",
     "output_type": "stream",
     "text": [
      "Epoch:  92%|█████████▏| 46/50 [01:26<00:07,  1.88s/it]"
     ]
    },
    {
     "name": "stdout",
     "output_type": "stream",
     "text": [
      "epoch: 45, test val_loss: 0.453239\n",
      "epoch: 45, train loss: 18.8740, lr: 0.000100, spent: 86.9 secs\n"
     ]
    },
    {
     "name": "stderr",
     "output_type": "stream",
     "text": [
      "Epoch:  94%|█████████▍| 47/50 [01:28<00:05,  1.89s/it]"
     ]
    },
    {
     "name": "stdout",
     "output_type": "stream",
     "text": [
      "epoch: 46, test val_loss: 0.452964\n",
      "epoch: 46, train loss: 18.6872, lr: 0.000100, spent: 88.8 secs\n"
     ]
    },
    {
     "name": "stderr",
     "output_type": "stream",
     "text": [
      "Epoch:  96%|█████████▌| 48/50 [01:30<00:03,  1.89s/it]"
     ]
    },
    {
     "name": "stdout",
     "output_type": "stream",
     "text": [
      "epoch: 47, test val_loss: 0.453082\n",
      "EarlyStopping counter: 1 out of 5\n",
      "epoch: 47, train loss: 18.5237, lr: 0.000100, spent: 90.7 secs\n"
     ]
    },
    {
     "name": "stderr",
     "output_type": "stream",
     "text": [
      "Epoch:  98%|█████████▊| 49/50 [01:32<00:01,  1.89s/it]"
     ]
    },
    {
     "name": "stdout",
     "output_type": "stream",
     "text": [
      "epoch: 48, test val_loss: 0.448821\n",
      "epoch: 48, train loss: 18.5254, lr: 0.000100, spent: 92.6 secs\n"
     ]
    },
    {
     "name": "stderr",
     "output_type": "stream",
     "text": [
      "Epoch: 100%|██████████| 50/50 [01:34<00:00,  1.89s/it]\n",
      "2024-03-28 02:41:48.950 | INFO     | trainer:train:137 - load best at last from ./checkpoint\n",
      "2024-03-28 02:41:48.972 | INFO     | trainer:save_model:248 - saving model checkpoint to ./checkpoint\n",
      "2024-03-28 02:41:49.094 | INFO     | trainer:train:142 - training complete, cost 94.6 secs.\n"
     ]
    },
    {
     "name": "stdout",
     "output_type": "stream",
     "text": [
      "epoch: 49, test val_loss: 0.439661\n",
      "epoch: 49, train loss: 18.5226, lr: 0.000100, spent: 94.5 secs\n"
     ]
    }
   ],
   "source": [
    "# learning_rates = [ 1e-2, 5*1e-3 ,1e-3, 5*1e-4 , 2* 1e-4, 1e-4]\n",
    "learning_rates = [1e-4]\n",
    "results = []\n",
    "\n",
    "for lr in learning_rates:\n",
    "    random.seed(10)\n",
    "\n",
    "    model = transtab.build_classifier(\n",
    "        cat_cols, num_cols, bin_cols,\n",
    "        supervised=True,\n",
    "        num_partition=4,\n",
    "        overlap_ratio=0.5,\n",
    "    )\n",
    "\n",
    "    training_arguments = {\n",
    "        'num_epoch': 50,\n",
    "        'batch_size': 128,\n",
    "        'lr': lr,  # Update the 'lr' parameter here\n",
    "        'eval_metric': 'val_loss',\n",
    "        'eval_less_is_better': True,\n",
    "        'output_dir': './checkpoint'\n",
    "    }\n",
    "\n",
    "    transtab.train(model, trainset, valset, verbose=False, **training_arguments)\n",
    "\n",
    "    x_test, y_test = testset[0]\n",
    "    ypred = transtab.predict(model, x_test)\n",
    "    results.append(transtab.evaluate(ypred, y_test, seed=123, metric='auc'))"
   ]
  },
  {
   "cell_type": "code",
   "execution_count": 5,
   "metadata": {},
   "outputs": [
    {
     "name": "stdout",
     "output_type": "stream",
     "text": [
      "[[0.9272096013110678], [0.9611659744002713], [0.9754686926054646], [0.9439705716142522], [0.90738641179961], [0.8817213415840185]]\n",
      "0.9328204322191141\n"
     ]
    }
   ],
   "source": [
    "average = np.mean(results)\n",
    "print(results)\n",
    "print(average)"
   ]
  },
  {
   "cell_type": "code",
   "execution_count": null,
   "metadata": {},
   "outputs": [],
   "source": []
  }
 ],
 "metadata": {
  "kernelspec": {
   "display_name": "TranstabReproducibility",
   "language": "python",
   "name": "python3"
  },
  "language_info": {
   "codemirror_mode": {
    "name": "ipython",
    "version": 3
   },
   "file_extension": ".py",
   "mimetype": "text/x-python",
   "name": "python",
   "nbconvert_exporter": "python",
   "pygments_lexer": "ipython3",
   "version": "3.9.7"
  }
 },
 "nbformat": 4,
 "nbformat_minor": 2
}
