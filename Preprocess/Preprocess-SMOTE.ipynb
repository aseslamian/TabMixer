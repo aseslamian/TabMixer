{
 "cells": [
  {
   "cell_type": "code",
   "execution_count": 1,
   "metadata": {},
   "outputs": [],
   "source": [
    "import pandas as pd\n",
    "from sklearn.model_selection import train_test_split\n",
    "from sklearn.impute import SimpleImputer, KNNImputer\n",
    "from sklearn.preprocessing import OneHotEncoder\n",
    "from imblearn.over_sampling import SMOTE\n",
    "import numpy as np\n",
    "\n",
    "# path_ADNI = 'C:/Users/Ali/Code/TransTAB/TransTab-Repo3/Dataset3/data_processed.csv'\n",
    "# path2_Credit = 'C:\\Users\\Ali\\Code\\TransTAB\\TransTab-Repo3\\credit-approval\\data_processed.csv'\n",
    "\n",
    "# Load your dataset\n",
    "df = pd.read_csv(r'C:/Users/Ali/Code/TransTAB/TransTab-Repo3/Dataset3/data_processed.csv')\n",
    "\n",
    "# Identify numerical and categorical columns\n",
    "numerical_columns = df.select_dtypes(include=['int64', 'float64']).columns.tolist()\n",
    "# categorical_columns = df.select_dtypes(include=['object']).columns.tolist()\n",
    "categorical_columns = df.drop(columns=['target_label']).select_dtypes(include=['object']).columns.tolist()\n",
    "\n",
    "# Separate target and features\n",
    "target = 'target_label'  # Update this if your target column has a different name\n",
    "X = df.drop(target, axis=1)\n",
    "y = df[target]\n",
    "\n",
    "# Impute missing values for numerical data\n",
    "knn_imputer = KNNImputer(n_neighbors=5)\n",
    "X_numerical = knn_imputer.fit_transform(X[numerical_columns])\n",
    "\n",
    "# Impute missing values for categorical data\n",
    "simple_imputer = SimpleImputer(strategy='most_frequent')\n",
    "X_categorical = simple_imputer.fit_transform(X[categorical_columns])\n",
    "\n",
    "# Encode categorical features\n",
    "encoder = OneHotEncoder(sparse=False, handle_unknown='ignore')\n",
    "X_categorical_encoded = encoder.fit_transform(X_categorical)\n",
    "\n",
    "# Combine numerical and encoded categorical features\n",
    "\n",
    "X_combined = np.hstack((X_numerical, X_categorical_encoded))\n",
    "\n",
    "# Apply SMOTE to the combined dataset to balance classes\n",
    "smote = SMOTE(sampling_strategy='auto')\n",
    "X_res, y_res = smote.fit_resample(X_combined, y.map({'AD': 1, 'CN': 0}))  # Ensure y is encoded as numeric\n",
    "\n",
    "# Convert resampled X_res back to a DataFrame\n",
    "columns = numerical_columns + list(encoder.get_feature_names_out(categorical_columns))\n",
    "resampled_df = pd.DataFrame(X_res, columns=columns)\n",
    "\n",
    "# Add the resampled target back to your DataFrame\n",
    "resampled_df[target] = y_res.map({1: 'AD', 0: 'CN'})\n",
    "\n",
    "\n",
    "# Save the balanced dataset to a new CSV file\n",
    "resampled_file_path = 'resampled_dataset.csv'\n",
    "resampled_df.to_csv(resampled_file_path, index=False)\n",
    "\n"
   ]
  }
 ],
 "metadata": {
  "kernelspec": {
   "display_name": "transtabReproducibility",
   "language": "python",
   "name": "python3"
  },
  "language_info": {
   "codemirror_mode": {
    "name": "ipython",
    "version": 3
   },
   "file_extension": ".py",
   "mimetype": "text/x-python",
   "name": "python",
   "nbconvert_exporter": "python",
   "pygments_lexer": "ipython3",
   "version": "3.9.7"
  }
 },
 "nbformat": 4,
 "nbformat_minor": 2
}
